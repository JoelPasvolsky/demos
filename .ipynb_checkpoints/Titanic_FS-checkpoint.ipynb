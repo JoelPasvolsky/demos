{
 "cells": [
  {
   "cell_type": "markdown",
   "metadata": {},
   "source": [
    "# Feature selection on the Titanic survivors dataset"
   ]
  },
  {
   "cell_type": "markdown",
   "metadata": {},
   "source": [
    "### In this notebook"
   ]
  },
  {
   "cell_type": "markdown",
   "metadata": {},
   "source": [
    "0. data curation\n",
    "1. info theory\n",
    "2. pairwise mutual information ranks\n",
    "3. QUBO"
   ]
  },
  {
   "cell_type": "code",
   "execution_count": 418,
   "metadata": {},
   "outputs": [],
   "source": [
    "%matplotlib inline"
   ]
  },
  {
   "cell_type": "code",
   "execution_count": 419,
   "metadata": {},
   "outputs": [],
   "source": [
    "from pylab import *"
   ]
  },
  {
   "cell_type": "code",
   "execution_count": 420,
   "metadata": {},
   "outputs": [],
   "source": [
    "import pandas as pd"
   ]
  },
  {
   "cell_type": "code",
   "execution_count": 421,
   "metadata": {},
   "outputs": [],
   "source": [
    "import re"
   ]
  },
  {
   "cell_type": "markdown",
   "metadata": {},
   "source": [
    "### 0. data curation"
   ]
  },
  {
   "cell_type": "markdown",
   "metadata": {},
   "source": [
    "This section borrows heavily from https://www.kaggle.com/arthurtok/introduction-to-ensembling-stacking-in-python"
   ]
  },
  {
   "cell_type": "code",
   "execution_count": 422,
   "metadata": {},
   "outputs": [
    {
     "data": {
      "text/html": [
       "<div>\n",
       "<style scoped>\n",
       "    .dataframe tbody tr th:only-of-type {\n",
       "        vertical-align: middle;\n",
       "    }\n",
       "\n",
       "    .dataframe tbody tr th {\n",
       "        vertical-align: top;\n",
       "    }\n",
       "\n",
       "    .dataframe thead th {\n",
       "        text-align: right;\n",
       "    }\n",
       "</style>\n",
       "<table border=\"1\" class=\"dataframe\">\n",
       "  <thead>\n",
       "    <tr style=\"text-align: right;\">\n",
       "      <th></th>\n",
       "      <th>PassengerId</th>\n",
       "      <th>Survived</th>\n",
       "      <th>Pclass</th>\n",
       "      <th>Name</th>\n",
       "      <th>Sex</th>\n",
       "      <th>Age</th>\n",
       "      <th>SibSp</th>\n",
       "      <th>Parch</th>\n",
       "      <th>Ticket</th>\n",
       "      <th>Fare</th>\n",
       "      <th>Cabin</th>\n",
       "      <th>Embarked</th>\n",
       "    </tr>\n",
       "  </thead>\n",
       "  <tbody>\n",
       "    <tr>\n",
       "      <th>0</th>\n",
       "      <td>1</td>\n",
       "      <td>0</td>\n",
       "      <td>3</td>\n",
       "      <td>Braund, Mr. Owen Harris</td>\n",
       "      <td>male</td>\n",
       "      <td>22.0</td>\n",
       "      <td>1</td>\n",
       "      <td>0</td>\n",
       "      <td>A/5 21171</td>\n",
       "      <td>7.2500</td>\n",
       "      <td>NaN</td>\n",
       "      <td>S</td>\n",
       "    </tr>\n",
       "    <tr>\n",
       "      <th>1</th>\n",
       "      <td>2</td>\n",
       "      <td>1</td>\n",
       "      <td>1</td>\n",
       "      <td>Cumings, Mrs. John Bradley (Florence Briggs Th...</td>\n",
       "      <td>female</td>\n",
       "      <td>38.0</td>\n",
       "      <td>1</td>\n",
       "      <td>0</td>\n",
       "      <td>PC 17599</td>\n",
       "      <td>71.2833</td>\n",
       "      <td>C85</td>\n",
       "      <td>C</td>\n",
       "    </tr>\n",
       "    <tr>\n",
       "      <th>2</th>\n",
       "      <td>3</td>\n",
       "      <td>1</td>\n",
       "      <td>3</td>\n",
       "      <td>Heikkinen, Miss. Laina</td>\n",
       "      <td>female</td>\n",
       "      <td>26.0</td>\n",
       "      <td>0</td>\n",
       "      <td>0</td>\n",
       "      <td>STON/O2. 3101282</td>\n",
       "      <td>7.9250</td>\n",
       "      <td>NaN</td>\n",
       "      <td>S</td>\n",
       "    </tr>\n",
       "  </tbody>\n",
       "</table>\n",
       "</div>"
      ],
      "text/plain": [
       "   PassengerId  Survived  Pclass  \\\n",
       "0            1         0       3   \n",
       "1            2         1       1   \n",
       "2            3         1       3   \n",
       "\n",
       "                                                Name     Sex   Age  SibSp  \\\n",
       "0                            Braund, Mr. Owen Harris    male  22.0      1   \n",
       "1  Cumings, Mrs. John Bradley (Florence Briggs Th...  female  38.0      1   \n",
       "2                             Heikkinen, Miss. Laina  female  26.0      0   \n",
       "\n",
       "   Parch            Ticket     Fare Cabin Embarked  \n",
       "0      0         A/5 21171   7.2500   NaN        S  \n",
       "1      0          PC 17599  71.2833   C85        C  \n",
       "2      0  STON/O2. 3101282   7.9250   NaN        S  "
      ]
     },
     "execution_count": 422,
     "metadata": {},
     "output_type": "execute_result"
    }
   ],
   "source": [
    "# Load in the train and test datasets\n",
    "train = pd.read_csv('~/Data/Titanic/train.csv')\n",
    "test = pd.read_csv('~/Data/Titanic/test.csv')\n",
    "\n",
    "# Store our passenger ID for easy access\n",
    "PassengerId = test['PassengerId']\n",
    "\n",
    "train.head(3)"
   ]
  },
  {
   "cell_type": "code",
   "execution_count": 423,
   "metadata": {},
   "outputs": [],
   "source": [
    "full_data = [train, test]"
   ]
  },
  {
   "cell_type": "code",
   "execution_count": 424,
   "metadata": {},
   "outputs": [],
   "source": [
    "SFD = ['Ticket'] #columns scheduled for deletion"
   ]
  },
  {
   "cell_type": "markdown",
   "metadata": {},
   "source": [
    "#### name"
   ]
  },
  {
   "cell_type": "markdown",
   "metadata": {},
   "source": [
    "name length"
   ]
  },
  {
   "cell_type": "code",
   "execution_count": 425,
   "metadata": {},
   "outputs": [],
   "source": [
    "#add name length feature\n",
    "for dataset in full_data:\n",
    "    dataset['Name_length'] = dataset['Name'].apply(len)"
   ]
  },
  {
   "cell_type": "markdown",
   "metadata": {},
   "source": [
    "name title"
   ]
  },
  {
   "cell_type": "code",
   "execution_count": 426,
   "metadata": {},
   "outputs": [],
   "source": [
    "# extract titles from passenger names\n",
    "def get_title(name):\n",
    "    title_search = re.search(' ([A-Za-z]+)\\.', name)\n",
    "    # If the title exists, extract and return it.\n",
    "    if title_search:\n",
    "        return title_search.group(1)\n",
    "    return \"\"\n",
    "\n",
    "# Create a new feature Title, containing the titles of passenger names\n",
    "for dataset in full_data:\n",
    "    dataset['Title'] = dataset['Name'].apply(get_title)\n",
    "    \n",
    "# Group all non-common titles into one single grouping \"Rare\"\n",
    "for dataset in full_data:\n",
    "    dataset['Title'] = dataset['Title'].replace(['Lady', 'Countess','Capt', 'Col','Don', 'Dr', 'Major', 'Rev', 'Sir', 'Jonkheer', 'Dona'], 'Rare_title')\n",
    "\n",
    "    dataset['Title'] = dataset['Title'].replace('Mlle', 'Miss')\n",
    "    dataset['Title'] = dataset['Title'].replace('Ms', 'Miss')\n",
    "    dataset['Title'] = dataset['Title'].replace('Mme', 'Mrs')\n"
   ]
  },
  {
   "cell_type": "code",
   "execution_count": 427,
   "metadata": {},
   "outputs": [
    {
     "data": {
      "text/plain": [
       "array(['Mr', 'Mrs', 'Miss', 'Master', 'Rare_title'], dtype=object)"
      ]
     },
     "execution_count": 427,
     "metadata": {},
     "output_type": "execute_result"
    }
   ],
   "source": [
    "dataset.Title.unique()"
   ]
  },
  {
   "cell_type": "code",
   "execution_count": 428,
   "metadata": {},
   "outputs": [],
   "source": [
    "for dataset in full_data:\n",
    "    for Title in dataset.Title.unique():\n",
    "        dataset[Title]=dataset['Title'].apply(lambda x: 1 if x==Title else 0)"
   ]
  },
  {
   "cell_type": "code",
   "execution_count": 429,
   "metadata": {},
   "outputs": [],
   "source": [
    "SFD.append('Name') #schedule for deletion\n",
    "SFD.append('Title') #schedule for deletion"
   ]
  },
  {
   "cell_type": "markdown",
   "metadata": {},
   "source": [
    "#### alone"
   ]
  },
  {
   "cell_type": "code",
   "execution_count": 430,
   "metadata": {},
   "outputs": [],
   "source": [
    "#add if passenger travels alone\n",
    "for dataset in full_data:\n",
    "    dataset['Alone'] = dataset[\"SibSp\"]+dataset[\"Parch\"]\n",
    "    dataset['Alone'] = dataset['Alone'].apply(lambda x: 1 if x== 0 else 0 )"
   ]
  },
  {
   "cell_type": "markdown",
   "metadata": {},
   "source": [
    "#### cabin"
   ]
  },
  {
   "cell_type": "code",
   "execution_count": 431,
   "metadata": {},
   "outputs": [],
   "source": [
    "#add binary cabin feature\n",
    "for dataset in full_data:\n",
    "    dataset['Cabin'] = dataset[\"Cabin\"].apply(lambda x: 0 if type(x) == float else 1)"
   ]
  },
  {
   "cell_type": "markdown",
   "metadata": {},
   "source": [
    "#### sex"
   ]
  },
  {
   "cell_type": "code",
   "execution_count": 432,
   "metadata": {},
   "outputs": [],
   "source": [
    "#add binary cabin feature\n",
    "for dataset in full_data:\n",
    "    dataset['Sex'] = dataset[\"Sex\"].apply(lambda x: 0 if x == 'male' else 1)"
   ]
  },
  {
   "cell_type": "markdown",
   "metadata": {},
   "source": [
    "#### port"
   ]
  },
  {
   "cell_type": "code",
   "execution_count": 433,
   "metadata": {},
   "outputs": [],
   "source": [
    "for dataset in full_data:\n",
    "    dataset['port_S']=dataset['Embarked'].apply(lambda x: 1 if x=='S' else 0)\n",
    "    dataset['port_C']=dataset['Embarked'].apply(lambda x: 1 if x=='C' else 0)\n",
    "    dataset['port_Q']=dataset['Embarked'].apply(lambda x: 1 if x=='Q' else 0)"
   ]
  },
  {
   "cell_type": "code",
   "execution_count": 434,
   "metadata": {},
   "outputs": [],
   "source": [
    "SFD.append('Embarked') #schedule for deletion"
   ]
  },
  {
   "cell_type": "code",
   "execution_count": 435,
   "metadata": {
    "scrolled": true
   },
   "outputs": [
    {
     "data": {
      "text/html": [
       "<div>\n",
       "<style scoped>\n",
       "    .dataframe tbody tr th:only-of-type {\n",
       "        vertical-align: middle;\n",
       "    }\n",
       "\n",
       "    .dataframe tbody tr th {\n",
       "        vertical-align: top;\n",
       "    }\n",
       "\n",
       "    .dataframe thead th {\n",
       "        text-align: right;\n",
       "    }\n",
       "</style>\n",
       "<table border=\"1\" class=\"dataframe\">\n",
       "  <thead>\n",
       "    <tr style=\"text-align: right;\">\n",
       "      <th></th>\n",
       "      <th>PassengerId</th>\n",
       "      <th>Survived</th>\n",
       "      <th>Pclass</th>\n",
       "      <th>Name</th>\n",
       "      <th>Sex</th>\n",
       "      <th>Age</th>\n",
       "      <th>SibSp</th>\n",
       "      <th>Parch</th>\n",
       "      <th>Ticket</th>\n",
       "      <th>Fare</th>\n",
       "      <th>...</th>\n",
       "      <th>Title</th>\n",
       "      <th>Mr</th>\n",
       "      <th>Mrs</th>\n",
       "      <th>Miss</th>\n",
       "      <th>Master</th>\n",
       "      <th>Rare_title</th>\n",
       "      <th>Alone</th>\n",
       "      <th>port_S</th>\n",
       "      <th>port_C</th>\n",
       "      <th>port_Q</th>\n",
       "    </tr>\n",
       "  </thead>\n",
       "  <tbody>\n",
       "    <tr>\n",
       "      <th>0</th>\n",
       "      <td>1</td>\n",
       "      <td>0</td>\n",
       "      <td>3</td>\n",
       "      <td>Braund, Mr. Owen Harris</td>\n",
       "      <td>0</td>\n",
       "      <td>22.0</td>\n",
       "      <td>1</td>\n",
       "      <td>0</td>\n",
       "      <td>A/5 21171</td>\n",
       "      <td>7.2500</td>\n",
       "      <td>...</td>\n",
       "      <td>Mr</td>\n",
       "      <td>1</td>\n",
       "      <td>0</td>\n",
       "      <td>0</td>\n",
       "      <td>0</td>\n",
       "      <td>0</td>\n",
       "      <td>0</td>\n",
       "      <td>1</td>\n",
       "      <td>0</td>\n",
       "      <td>0</td>\n",
       "    </tr>\n",
       "    <tr>\n",
       "      <th>1</th>\n",
       "      <td>2</td>\n",
       "      <td>1</td>\n",
       "      <td>1</td>\n",
       "      <td>Cumings, Mrs. John Bradley (Florence Briggs Th...</td>\n",
       "      <td>1</td>\n",
       "      <td>38.0</td>\n",
       "      <td>1</td>\n",
       "      <td>0</td>\n",
       "      <td>PC 17599</td>\n",
       "      <td>71.2833</td>\n",
       "      <td>...</td>\n",
       "      <td>Mrs</td>\n",
       "      <td>0</td>\n",
       "      <td>1</td>\n",
       "      <td>0</td>\n",
       "      <td>0</td>\n",
       "      <td>0</td>\n",
       "      <td>0</td>\n",
       "      <td>0</td>\n",
       "      <td>1</td>\n",
       "      <td>0</td>\n",
       "    </tr>\n",
       "    <tr>\n",
       "      <th>2</th>\n",
       "      <td>3</td>\n",
       "      <td>1</td>\n",
       "      <td>3</td>\n",
       "      <td>Heikkinen, Miss. Laina</td>\n",
       "      <td>1</td>\n",
       "      <td>26.0</td>\n",
       "      <td>0</td>\n",
       "      <td>0</td>\n",
       "      <td>STON/O2. 3101282</td>\n",
       "      <td>7.9250</td>\n",
       "      <td>...</td>\n",
       "      <td>Miss</td>\n",
       "      <td>0</td>\n",
       "      <td>0</td>\n",
       "      <td>1</td>\n",
       "      <td>0</td>\n",
       "      <td>0</td>\n",
       "      <td>1</td>\n",
       "      <td>1</td>\n",
       "      <td>0</td>\n",
       "      <td>0</td>\n",
       "    </tr>\n",
       "  </tbody>\n",
       "</table>\n",
       "<p>3 rows × 23 columns</p>\n",
       "</div>"
      ],
      "text/plain": [
       "   PassengerId  Survived  Pclass  \\\n",
       "0            1         0       3   \n",
       "1            2         1       1   \n",
       "2            3         1       3   \n",
       "\n",
       "                                                Name  Sex   Age  SibSp  Parch  \\\n",
       "0                            Braund, Mr. Owen Harris    0  22.0      1      0   \n",
       "1  Cumings, Mrs. John Bradley (Florence Briggs Th...    1  38.0      1      0   \n",
       "2                             Heikkinen, Miss. Laina    1  26.0      0      0   \n",
       "\n",
       "             Ticket     Fare   ...    Title Mr  Mrs Miss  Master  Rare_title  \\\n",
       "0         A/5 21171   7.2500   ...       Mr  1    0    0       0           0   \n",
       "1          PC 17599  71.2833   ...      Mrs  0    1    0       0           0   \n",
       "2  STON/O2. 3101282   7.9250   ...     Miss  0    0    1       0           0   \n",
       "\n",
       "   Alone  port_S  port_C  port_Q  \n",
       "0      0       1       0       0  \n",
       "1      0       0       1       0  \n",
       "2      1       1       0       0  \n",
       "\n",
       "[3 rows x 23 columns]"
      ]
     },
     "execution_count": 435,
     "metadata": {},
     "output_type": "execute_result"
    }
   ],
   "source": [
    "train.head(3)"
   ]
  },
  {
   "cell_type": "code",
   "execution_count": 436,
   "metadata": {},
   "outputs": [
    {
     "name": "stdout",
     "output_type": "stream",
     "text": [
      "['Ticket', 'Title', 'Name', 'Embarked']\n"
     ]
    }
   ],
   "source": [
    "SFD = list(set(SFD))\n",
    "print(SFD)\n",
    "train = train.drop(SFD,axis=1)\n",
    "test = test.drop(SFD,axis=1)"
   ]
  },
  {
   "cell_type": "code",
   "execution_count": 437,
   "metadata": {},
   "outputs": [
    {
     "data": {
      "text/html": [
       "<div>\n",
       "<style scoped>\n",
       "    .dataframe tbody tr th:only-of-type {\n",
       "        vertical-align: middle;\n",
       "    }\n",
       "\n",
       "    .dataframe tbody tr th {\n",
       "        vertical-align: top;\n",
       "    }\n",
       "\n",
       "    .dataframe thead th {\n",
       "        text-align: right;\n",
       "    }\n",
       "</style>\n",
       "<table border=\"1\" class=\"dataframe\">\n",
       "  <thead>\n",
       "    <tr style=\"text-align: right;\">\n",
       "      <th></th>\n",
       "      <th>PassengerId</th>\n",
       "      <th>Survived</th>\n",
       "      <th>Pclass</th>\n",
       "      <th>Sex</th>\n",
       "      <th>Age</th>\n",
       "      <th>SibSp</th>\n",
       "      <th>Parch</th>\n",
       "      <th>Fare</th>\n",
       "      <th>Cabin</th>\n",
       "      <th>Name_length</th>\n",
       "      <th>Mr</th>\n",
       "      <th>Mrs</th>\n",
       "      <th>Miss</th>\n",
       "      <th>Master</th>\n",
       "      <th>Rare_title</th>\n",
       "      <th>Alone</th>\n",
       "      <th>port_S</th>\n",
       "      <th>port_C</th>\n",
       "      <th>port_Q</th>\n",
       "    </tr>\n",
       "  </thead>\n",
       "  <tbody>\n",
       "    <tr>\n",
       "      <th>0</th>\n",
       "      <td>1</td>\n",
       "      <td>0</td>\n",
       "      <td>3</td>\n",
       "      <td>0</td>\n",
       "      <td>22.0</td>\n",
       "      <td>1</td>\n",
       "      <td>0</td>\n",
       "      <td>7.2500</td>\n",
       "      <td>0</td>\n",
       "      <td>23</td>\n",
       "      <td>1</td>\n",
       "      <td>0</td>\n",
       "      <td>0</td>\n",
       "      <td>0</td>\n",
       "      <td>0</td>\n",
       "      <td>0</td>\n",
       "      <td>1</td>\n",
       "      <td>0</td>\n",
       "      <td>0</td>\n",
       "    </tr>\n",
       "    <tr>\n",
       "      <th>1</th>\n",
       "      <td>2</td>\n",
       "      <td>1</td>\n",
       "      <td>1</td>\n",
       "      <td>1</td>\n",
       "      <td>38.0</td>\n",
       "      <td>1</td>\n",
       "      <td>0</td>\n",
       "      <td>71.2833</td>\n",
       "      <td>1</td>\n",
       "      <td>51</td>\n",
       "      <td>0</td>\n",
       "      <td>1</td>\n",
       "      <td>0</td>\n",
       "      <td>0</td>\n",
       "      <td>0</td>\n",
       "      <td>0</td>\n",
       "      <td>0</td>\n",
       "      <td>1</td>\n",
       "      <td>0</td>\n",
       "    </tr>\n",
       "    <tr>\n",
       "      <th>2</th>\n",
       "      <td>3</td>\n",
       "      <td>1</td>\n",
       "      <td>3</td>\n",
       "      <td>1</td>\n",
       "      <td>26.0</td>\n",
       "      <td>0</td>\n",
       "      <td>0</td>\n",
       "      <td>7.9250</td>\n",
       "      <td>0</td>\n",
       "      <td>22</td>\n",
       "      <td>0</td>\n",
       "      <td>0</td>\n",
       "      <td>1</td>\n",
       "      <td>0</td>\n",
       "      <td>0</td>\n",
       "      <td>1</td>\n",
       "      <td>1</td>\n",
       "      <td>0</td>\n",
       "      <td>0</td>\n",
       "    </tr>\n",
       "  </tbody>\n",
       "</table>\n",
       "</div>"
      ],
      "text/plain": [
       "   PassengerId  Survived  Pclass  Sex   Age  SibSp  Parch     Fare  Cabin  \\\n",
       "0            1         0       3    0  22.0      1      0   7.2500      0   \n",
       "1            2         1       1    1  38.0      1      0  71.2833      1   \n",
       "2            3         1       3    1  26.0      0      0   7.9250      0   \n",
       "\n",
       "   Name_length  Mr  Mrs  Miss  Master  Rare_title  Alone  port_S  port_C  \\\n",
       "0           23   1    0     0       0           0      0       1       0   \n",
       "1           51   0    1     0       0           0      0       0       1   \n",
       "2           22   0    0     1       0           0      1       1       0   \n",
       "\n",
       "   port_Q  \n",
       "0       0  \n",
       "1       0  \n",
       "2       0  "
      ]
     },
     "execution_count": 437,
     "metadata": {},
     "output_type": "execute_result"
    }
   ],
   "source": [
    "train.head(3)"
   ]
  },
  {
   "cell_type": "markdown",
   "metadata": {},
   "source": [
    "it looks like there are some NANs in the data. We'll drop the rows where that happens. Ideally we would like to be robust against that, especially for the purpose of predicting the test data, but we'll not bother with this for now."
   ]
  },
  {
   "cell_type": "code",
   "execution_count": 438,
   "metadata": {},
   "outputs": [
    {
     "data": {
      "text/plain": [
       "PassengerId      0\n",
       "Survived         0\n",
       "Pclass           0\n",
       "Sex              0\n",
       "Age            177\n",
       "SibSp            0\n",
       "Parch            0\n",
       "Fare             0\n",
       "Cabin            0\n",
       "Name_length      0\n",
       "Mr               0\n",
       "Mrs              0\n",
       "Miss             0\n",
       "Master           0\n",
       "Rare_title       0\n",
       "Alone            0\n",
       "port_S           0\n",
       "port_C           0\n",
       "port_Q           0\n",
       "dtype: int64"
      ]
     },
     "execution_count": 438,
     "metadata": {},
     "output_type": "execute_result"
    }
   ],
   "source": [
    "train.isnull().sum()"
   ]
  },
  {
   "cell_type": "code",
   "execution_count": 439,
   "metadata": {},
   "outputs": [],
   "source": [
    "train = train[np.isfinite(train['Age'])]\n",
    "test = test[np.isfinite(test['Age'])]"
   ]
  },
  {
   "cell_type": "markdown",
   "metadata": {},
   "source": [
    "### 1. info theory"
   ]
  },
  {
   "cell_type": "markdown",
   "metadata": {},
   "source": [
    "Build the joint probability distributions to be used later for the info theory measurements. In order to get good stats, all of the variables that have more than the specified max_class possible values (eg. name_length, fare, age) are binned into max_class number of states. "
   ]
  },
  {
   "cell_type": "code",
   "execution_count": 449,
   "metadata": {},
   "outputs": [],
   "source": [
    "def prob(data,max_class=3): \n",
    "    '''build joint distribution from data. columns are the variables x_1,...,x_n. it returns P(x_1,...,x_n).\n",
    "    max_class: maximum number of states per variable desired'''\n",
    "    if len(data.shape) == 1: bins = min(max_class,len(set(data)))\n",
    "    else:\n",
    "        bins = [] #how many bins to use per variable \n",
    "        for i in range(data.shape[1]):\n",
    "            bins.append(min(max_class,len(set(data[:,i]))))\n",
    "                    \n",
    "    prob, edges = np.histogramdd(data,bins)\n",
    "                    \n",
    "    return prob/np.sum(prob)"
   ]
  },
  {
   "cell_type": "code",
   "execution_count": 450,
   "metadata": {},
   "outputs": [],
   "source": [
    "p = prob(train[['Survived','Sex','Pclass']].values)"
   ]
  },
  {
   "cell_type": "code",
   "execution_count": 451,
   "metadata": {},
   "outputs": [
    {
     "data": {
      "text/plain": [
       "array([[[0.08543417, 0.11764706, 0.30112045],\n",
       "        [0.00420168, 0.00840336, 0.07703081]],\n",
       "\n",
       "       [[0.05602241, 0.0210084 , 0.05322129],\n",
       "        [0.11484594, 0.0952381 , 0.06582633]]])"
      ]
     },
     "execution_count": 451,
     "metadata": {},
     "output_type": "execute_result"
    }
   ],
   "source": [
    "p"
   ]
  },
  {
   "cell_type": "code",
   "execution_count": 452,
   "metadata": {},
   "outputs": [
    {
     "data": {
      "text/plain": [
       "array([0.59383754, 0.40616246])"
      ]
     },
     "execution_count": 452,
     "metadata": {},
     "output_type": "execute_result"
    }
   ],
   "source": [
    "sum(p,axis=(1,2))"
   ]
  },
  {
   "cell_type": "markdown",
   "metadata": {},
   "source": [
    "$H(X) = -\\sum_x P(x)\\mathrm{log}P(x)$"
   ]
  },
  {
   "cell_type": "code",
   "execution_count": 453,
   "metadata": {},
   "outputs": [],
   "source": [
    "def H(prob):\n",
    "    '''shannon entropy H = -sum_i p_i*log(p_i)'''\n",
    "    prob = prob.flatten()\n",
    "    H = 0.\n",
    "    for p_i in prob[prob!=0]: H -= p_i*np.log2(p_i)\n",
    "    return H"
   ]
  },
  {
   "cell_type": "markdown",
   "metadata": {},
   "source": [
    "$H(X|Y) = H(X,Y)-H(Y)$"
   ]
  },
  {
   "cell_type": "code",
   "execution_count": 579,
   "metadata": {},
   "outputs": [],
   "source": [
    "def H_cond_j(prob,j):\n",
    "    '''entropy of P conditional on variable j:\n",
    "    '''\n",
    "    non_j = arange(len(prob.shape))#non_j indices\n",
    "    non_j = tuple(non_j[non_j!=j])\n",
    "    return H(prob) - H(sum(prob,axis=non_j))"
   ]
  },
  {
   "cell_type": "markdown",
   "metadata": {},
   "source": [
    "$I(X;Y) = H(X)-H(X|Y)$"
   ]
  },
  {
   "cell_type": "code",
   "execution_count": 580,
   "metadata": {},
   "outputs": [],
   "source": [
    "def I(prob,j):\n",
    "    '''mutual information between all variables and variable j\n",
    "    '''\n",
    "    return H(sum(prob,axis=j)) - H_cond_j(prob,j)"
   ]
  },
  {
   "cell_type": "markdown",
   "metadata": {},
   "source": [
    "$H(X|Y,Z) = H(X,Y,Z)-H(Y,Z)$"
   ]
  },
  {
   "cell_type": "code",
   "execution_count": 578,
   "metadata": {},
   "outputs": [],
   "source": [
    "def H_cond_jk(prob,j,k):\n",
    "    '''entropy of P conditional on variables j k:\n",
    "    '''\n",
    "    non_jk = arange(len(prob.shape))#non_j indices\n",
    "    non_jk = tuple(non_jk[(non_jk!=j)&(non_jk!=k)])\n",
    "    return H(prob) - H(sum(prob,axis=non_jk))"
   ]
  },
  {
   "cell_type": "markdown",
   "metadata": {},
   "source": [
    "$I(X,Y|Z) = H(X|Z)-H(X|Y,Z)$"
   ]
  },
  {
   "cell_type": "code",
   "execution_count": 581,
   "metadata": {},
   "outputs": [],
   "source": [
    "def I_cond_k(prob,j,k):\n",
    "    '''mutual information between all variables and variable j, conditional on k\n",
    "    '''\n",
    "    if k < j:\n",
    "        return H_cond_j(sum(prob,axis=j),k) - H_cond_jk(prob,j,k)\n",
    "    else:\n",
    "        return H_cond_j(sum(prob,axis=j),k-1) - H_cond_jk(prob,j,k)"
   ]
  },
  {
   "cell_type": "markdown",
   "metadata": {},
   "source": [
    "### 2. pairwise mutual information ranks"
   ]
  },
  {
   "cell_type": "markdown",
   "metadata": {},
   "source": [
    "The most common implementation of feature selection that involves mutual information consists in simply ranking variables features $X_i$ by their mutual information with the target function $Y$, ie $I(X_i;Y)$. This can be implemented with [sklearn.feature_selection.SelectKBest](https://scikit-learn.org/stable/modules/generated/sklearn.feature_selection.SelectKBest.html#sklearn.feature_selection.SelectKBest) with score_func = mutual_info_classifier.\n",
    "\n",
    "Let's compare the rankings obtained from the package and our functions defined above (differences may be due to how the variables are binned into discrete states)"
   ]
  },
  {
   "cell_type": "markdown",
   "metadata": {},
   "source": [
    "#### skit-learn"
   ]
  },
  {
   "cell_type": "code",
   "execution_count": 539,
   "metadata": {},
   "outputs": [],
   "source": [
    "from sklearn.feature_selection import SelectKBest, mutual_info_classif"
   ]
  },
  {
   "cell_type": "code",
   "execution_count": 548,
   "metadata": {},
   "outputs": [],
   "source": [
    "model = SelectKBest(mutual_info_classif,'all')\n",
    "model.fit(train[train.columns[2:]].values,train['Survived'].values)\n",
    "scikit_scores = model.scores_"
   ]
  },
  {
   "cell_type": "code",
   "execution_count": 541,
   "metadata": {},
   "outputs": [],
   "source": [
    "scikit_sorted = [[i,e] for i,e in enumerate(scikit_scores)]\n",
    "scikit_sorted = [i for i,e in sorted(scikit_sorted,key=lambda x: x[1])][::-1]"
   ]
  },
  {
   "cell_type": "code",
   "execution_count": 542,
   "metadata": {
    "scrolled": true
   },
   "outputs": [
    {
     "data": {
      "text/plain": [
       "([<matplotlib.axis.XTick at 0x7f99d91fb320>,\n",
       "  <matplotlib.axis.XTick at 0x7f99d920b748>,\n",
       "  <matplotlib.axis.XTick at 0x7f99d920b7f0>,\n",
       "  <matplotlib.axis.XTick at 0x7f99d92b1cf8>,\n",
       "  <matplotlib.axis.XTick at 0x7f99d92c4be0>,\n",
       "  <matplotlib.axis.XTick at 0x7f99d92c4c88>,\n",
       "  <matplotlib.axis.XTick at 0x7f99d92c40b8>,\n",
       "  <matplotlib.axis.XTick at 0x7f99d92c4080>,\n",
       "  <matplotlib.axis.XTick at 0x7f99d931db70>,\n",
       "  <matplotlib.axis.XTick at 0x7f99d931d208>,\n",
       "  <matplotlib.axis.XTick at 0x7f99d931d898>,\n",
       "  <matplotlib.axis.XTick at 0x7f99d92cc278>,\n",
       "  <matplotlib.axis.XTick at 0x7f99d92cc9e8>,\n",
       "  <matplotlib.axis.XTick at 0x7f99d92cc3c8>,\n",
       "  <matplotlib.axis.XTick at 0x7f99d9358208>,\n",
       "  <matplotlib.axis.XTick at 0x7f99d9358278>,\n",
       "  <matplotlib.axis.XTick at 0x7f99d92ccbe0>],\n",
       " <a list of 17 Text xticklabel objects>)"
      ]
     },
     "execution_count": 542,
     "metadata": {},
     "output_type": "execute_result"
    },
    {
     "data": {
      "image/png": "[encoded data removed]",
      "text/plain": [
       "<Figure size 432x288 with 1 Axes>"
      ]
     },
     "metadata": {
      "needs_background": "light"
     },
     "output_type": "display_data"
    }
   ],
   "source": [
    "figure()\n",
    "bar(arange(len(scikit_scores)),scikit_scores[scikit_sorted])\n",
    "xticks(arange(len(scikit_scores)),train.columns[2:][scikit_sorted],rotation=90)"
   ]
  },
  {
   "cell_type": "markdown",
   "metadata": {},
   "source": [
    "#### our implementation"
   ]
  },
  {
   "cell_type": "code",
   "execution_count": 570,
   "metadata": {},
   "outputs": [],
   "source": [
    "our_scores = []\n",
    "for feature in train.columns[2:]:\n",
    "    our_scores.append(I(prob(train[['Survived',feature]].values,max_class=5),0))\n",
    "our_scores = array(our_scores)"
   ]
  },
  {
   "cell_type": "code",
   "execution_count": 571,
   "metadata": {},
   "outputs": [],
   "source": [
    "our_sorted = [[i,e] for i,e in enumerate(our_scores)]\n",
    "our_sorted = [i for i,e in sorted(our_sorted,key=lambda x: x[1])][::-1]"
   ]
  },
  {
   "cell_type": "code",
   "execution_count": 572,
   "metadata": {},
   "outputs": [
    {
     "data": {
      "text/plain": [
       "([<matplotlib.axis.XTick at 0x7f99d8996080>,\n",
       "  <matplotlib.axis.XTick at 0x7f99d898c9e8>,\n",
       "  <matplotlib.axis.XTick at 0x7f99d898c7b8>,\n",
       "  <matplotlib.axis.XTick at 0x7f99d8952d30>,\n",
       "  <matplotlib.axis.XTick at 0x7f99d895b240>,\n",
       "  <matplotlib.axis.XTick at 0x7f99d895b748>,\n",
       "  <matplotlib.axis.XTick at 0x7f99d895bc50>,\n",
       "  <matplotlib.axis.XTick at 0x7f99d8965198>,\n",
       "  <matplotlib.axis.XTick at 0x7f99d895b7f0>,\n",
       "  <matplotlib.axis.XTick at 0x7f99d8965518>,\n",
       "  <matplotlib.axis.XTick at 0x7f99d8965a20>,\n",
       "  <matplotlib.axis.XTick at 0x7f99d8965f28>,\n",
       "  <matplotlib.axis.XTick at 0x7f99d88ed470>,\n",
       "  <matplotlib.axis.XTick at 0x7f99d88ed978>,\n",
       "  <matplotlib.axis.XTick at 0x7f99d88ede80>,\n",
       "  <matplotlib.axis.XTick at 0x7f99d88f43c8>,\n",
       "  <matplotlib.axis.XTick at 0x7f99d88f48d0>],\n",
       " <a list of 17 Text xticklabel objects>)"
      ]
     },
     "execution_count": 572,
     "metadata": {},
     "output_type": "execute_result"
    },
    {
     "data": {
      "image/png": "[encoded data removed]",
      "text/plain": [
       "<Figure size 432x288 with 1 Axes>"
      ]
     },
     "metadata": {
      "needs_background": "light"
     },
     "output_type": "display_data"
    }
   ],
   "source": [
    "figure()\n",
    "bar(arange(len(our_scores)),our_scores[our_sorted])\n",
    "xticks(arange(len(our_scores)),train.columns[2:][our_sorted],rotation=90)"
   ]
  },
  {
   "cell_type": "markdown",
   "metadata": {},
   "source": [
    "#### method comparison"
   ]
  },
  {
   "cell_type": "markdown",
   "metadata": {},
   "source": [
    "Although both rank plots look fairly similar, there are some suprising variations. For example, we can extract more information from sex than they do although it's a binary variable. Sciki-learn is better at extracting information from the continuous variable Fare, since we decided to bin Fare into 5 states. Suprisingly, we do much better with Age which is also continuous. Changing the number of max_states changes our results."
   ]
  },
  {
   "cell_type": "code",
   "execution_count": 573,
   "metadata": {},
   "outputs": [
    {
     "data": {
      "text/plain": [
       "Text(0,0.5,'our I(X;Y)')"
      ]
     },
     "execution_count": 573,
     "metadata": {},
     "output_type": "execute_result"
    },
    {
     "data": {
      "image/png": "[encoded data removed]",
      "text/plain": [
       "<Figure size 432x288 with 1 Axes>"
      ]
     },
     "metadata": {
      "needs_background": "light"
     },
     "output_type": "display_data"
    }
   ],
   "source": [
    "figure()\n",
    "plot(scikit_scores, our_scores,'. ')\n",
    "plot([0,.25],[0,.25])\n",
    "xlim(0,0.25);ylim(0,0.25)\n",
    "gca().set_aspect('equal')\n",
    "xlabel('scikit-learn I(X;Y)'); ylabel('our I(X;Y)')"
   ]
  },
  {
   "cell_type": "markdown",
   "metadata": {},
   "source": [
    "Looking at the scikit-learn documentation I've found this:\n",
    "\n",
    "'The function relies on nonparametric methods based on entropy estimation from k-nearest neighbors distances as described in [2] and [3]. Both methods are based on the idea originally proposed in [4].'\n",
    "\n",
    "[2]\tA. Kraskov, H. Stogbauer and P. Grassberger, “Estimating mutual information”. Phys. Rev. E 69, 2004.\n",
    "\n",
    "[3]\tB. C. Ross “Mutual Information between Discrete and Continuous Data Sets”. PLoS ONE 9(2), 2014.\n",
    "\n",
    "[4]\tL. F. Kozachenko, N. N. Leonenko, “Sample Estimate of the Entropy of a Random Vector:, Probl. Peredachi Inf., 23:2 (1987), 9-16\n",
    "\n",
    "Later on I'll take look at what that's exactly doing and why would that mess with such a simple binary calculation such as Sex vs Survival."
   ]
  },
  {
   "cell_type": "markdown",
   "metadata": {},
   "source": [
    "### 3. QUBO"
   ]
  },
  {
   "cell_type": "markdown",
   "metadata": {},
   "source": [
    "As shown in the slides 'Global Mutual Information Based Feature Selection by Quantum Annealing' by K Tanahashi, S Takayanagi, T Motohashi and S Tanaka. One can use QUBOs to find a subset $X_S$ of features with size $|S|=k$ such that the mutual information $I(X_S;Y)$ between the union of such features and the target variable is maximal, ie\n",
    "\n",
    "$\\hat S = \\mathrm{arg max}_{|S|=k} I(X_S;Y)$\n",
    "\n",
    "This problem has $2^K$ possible solutions, so we resource to the use of a QPU-compatible formulation in order to find a solution in constant time.\n",
    "\n",
    "After applying a conditional independence assumption to our joint distributions, $P(X_1,\\dots,X_{K},Y|X_{K+1})\\approx\\prod_{i}^K P(X_i,Y|X_{K+1})$, the problem can be written as follows\n"
   ]
  },
  {
   "cell_type": "markdown",
   "metadata": {},
   "source": [
    "<img src=./QUBO.png/>"
   ]
  },
  {
   "cell_type": "markdown",
   "metadata": {},
   "source": [
    "(^this image has a typo, alpha should be negative)\n",
    "\n",
    "The green object on the equation above can be further broken down resulting in\n",
    "\n",
    "$ \\hat{\\mathbf{x}} = \\mathrm{arg min}_{\\mathbf{x}\\in \\{0,1\\}} \\Big( \\mathbf{x}^T \\Phi \\mathbf{x} \\Big)$\n",
    "\n",
    "with\n",
    "\n",
    "$\\Phi_{i=j} = -I(X_i;Y)+\\alpha(1-2k)$\n",
    "\n",
    "$\\Phi_{i\\neq j} = -I(X_j;Y|X_i)+\\alpha$\n"
   ]
  },
  {
   "cell_type": "code",
   "execution_count": 911,
   "metadata": {},
   "outputs": [],
   "source": [
    "def make_Phi(data, y_index, k, alpha):\n",
    "    '''data contains X and Y; y_index is Y; k is the desired number of features; alpha is the penalty for the number-of-features constraint'''\n",
    "    dim = data.shape[1]-1\n",
    "    Phi = np.zeros((dim,dim))\n",
    "    \n",
    "    for i in range(len(Phi)):\n",
    "        for j in range(len(Phi)):\n",
    "            \n",
    "            if i == j:\n",
    "                Phi[i,j] =  alpha*(1-2*k) -I(data[:,[i,y_index]],1)\n",
    "            \n",
    "            else:\n",
    "                Phi[i,j] = alpha -I_cond_k(data[:,[j,y_index,i]],1,2)\n",
    "    return Phi"
   ]
  },
  {
   "cell_type": "code",
   "execution_count": 925,
   "metadata": {},
   "outputs": [],
   "source": [
    "Phi = make_Phi(train[train.columns[1:]].values,y_index=0, k = 5, alpha = 500)"
   ]
  },
  {
   "cell_type": "code",
   "execution_count": 926,
   "metadata": {},
   "outputs": [],
   "source": [
    "def Phi_to_upper_diagonal(Phi):\n",
    "    Phi_ud = np.zeros(Phi.shape)\n",
    "    for i in range(len(Phi_ud)):\n",
    "        Phi_ud[i,i]=Phi[i,i]\n",
    "        for j in range(i+1,len(Phi_ud)):\n",
    "            Phi_ud[i,j] = Phi[i,j]+Phi[j,i]\n",
    "    return Phi_ud"
   ]
  },
  {
   "cell_type": "code",
   "execution_count": 927,
   "metadata": {},
   "outputs": [],
   "source": [
    "Phi_ud = Phi_to_upper_diagonal(Phi)"
   ]
  },
  {
   "cell_type": "code",
   "execution_count": 928,
   "metadata": {},
   "outputs": [],
   "source": [
    "bqm = dimod.BinaryQuadraticModel.from_numpy_matrix(Phi_ud)"
   ]
  },
  {
   "cell_type": "code",
   "execution_count": 929,
   "metadata": {},
   "outputs": [
    {
     "data": {
      "text/plain": [
       "{0: 824.3472722086617,\n",
       " 1: 15614.57817116574,\n",
       " 2: 361.45710120907097,\n",
       " 3: 304359.0498567451,\n",
       " 4: 1237.0329108547458,\n",
       " 5: 661.4199752461354,\n",
       " 6: 361296.7244455083,\n",
       " 7: -484.52079370015144,\n",
       " 8: 281898.2924305979,\n",
       " 9: 1443.5502350807037,\n",
       " 10: -1218.0942724949841,\n",
       " 11: -836.1702543468073,\n",
       " 12: -1899.7090638437458,\n",
       " 13: -2013.7188682856486,\n",
       " 14: 1630.0910751360561,\n",
       " 15: 3323.1867960955806,\n",
       " 16: -1056.9185482019702}"
      ]
     },
     "execution_count": 929,
     "metadata": {},
     "output_type": "execute_result"
    }
   ],
   "source": [
    "bqm.linear"
   ]
  },
  {
   "cell_type": "code",
   "execution_count": 930,
   "metadata": {},
   "outputs": [],
   "source": [
    "import neal"
   ]
  },
  {
   "cell_type": "code",
   "execution_count": 931,
   "metadata": {},
   "outputs": [],
   "source": [
    "#solver = neal.SimulatedAnnealingSampler()"
   ]
  },
  {
   "cell_type": "code",
   "execution_count": 932,
   "metadata": {},
   "outputs": [],
   "source": [
    "solver = dimod.ExactSolver()"
   ]
  },
  {
   "cell_type": "code",
   "execution_count": 933,
   "metadata": {},
   "outputs": [],
   "source": [
    "response = solver.sample(bqm)"
   ]
  },
  {
   "cell_type": "code",
   "execution_count": 939,
   "metadata": {
    "scrolled": true
   },
   "outputs": [],
   "source": [
    "state_E = [[s,e] for s,e in response.data(['sample','energy'])]\n",
    "state_E = sorted(state_E, key=lambda x: x[1])"
   ]
  },
  {
   "cell_type": "code",
   "execution_count": null,
   "metadata": {},
   "outputs": [],
   "source": []
  },
  {
   "cell_type": "code",
   "execution_count": null,
   "metadata": {},
   "outputs": [],
   "source": []
  },
  {
   "cell_type": "code",
   "execution_count": null,
   "metadata": {},
   "outputs": [],
   "source": []
  }
 ],
 "metadata": {
  "kernelspec": {
   "display_name": "Python 3",
   "language": "python",
   "name": "python3"
  },
  "language_info": {
   "codemirror_mode": {
    "name": "ipython",
    "version": 3
   },
   "file_extension": ".py",
   "mimetype": "text/x-python",
   "name": "python",
   "nbconvert_exporter": "python",
   "pygments_lexer": "ipython3",
   "version": "3.7.0"
  }
 },
 "nbformat": 4,
 "nbformat_minor": 2
}
