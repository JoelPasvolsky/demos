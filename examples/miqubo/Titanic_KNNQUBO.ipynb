{
 "cells": [
  {
   "cell_type": "markdown",
   "metadata": {},
   "source": [
    "# Feature selection on the Titanic survivors dataset"
   ]
  },
  {
   "cell_type": "markdown",
   "metadata": {},
   "source": [
    "This notebook accompanies the document https://confluence.dwavesys.com/x/JzaiAg"
   ]
  },
  {
   "cell_type": "markdown",
   "metadata": {},
   "source": [
    "### In this notebook"
   ]
  },
  {
   "cell_type": "markdown",
   "metadata": {},
   "source": [
    "0. data curation\n",
    "1. info theory\n",
    "2. pairwise mutual information ranks\n",
    "3. MI-QUBO\n",
    "4. KNN-QUBO\n",
    "5. Model predictions"
   ]
  },
  {
   "cell_type": "code",
   "execution_count": 1,
   "metadata": {},
   "outputs": [],
   "source": [
    "%matplotlib inline"
   ]
  },
  {
   "cell_type": "code",
   "execution_count": 2,
   "metadata": {},
   "outputs": [],
   "source": [
    "from pylab import *\n",
    "import random"
   ]
  },
  {
   "cell_type": "code",
   "execution_count": 3,
   "metadata": {},
   "outputs": [],
   "source": [
    "import pandas as pd"
   ]
  },
  {
   "cell_type": "code",
   "execution_count": 4,
   "metadata": {},
   "outputs": [],
   "source": [
    "import re"
   ]
  },
  {
   "cell_type": "markdown",
   "metadata": {},
   "source": [
    "### 0. data curation"
   ]
  },
  {
   "cell_type": "markdown",
   "metadata": {},
   "source": [
    "This section borrows heavily from https://www.kaggle.com/arthurtok/introduction-to-ensembling-stacking-in-python"
   ]
  },
  {
   "cell_type": "code",
   "execution_count": 5,
   "metadata": {},
   "outputs": [
    {
     "data": {
      "text/html": [
       "<div>\n",
       "<style scoped>\n",
       "    .dataframe tbody tr th:only-of-type {\n",
       "        vertical-align: middle;\n",
       "    }\n",
       "\n",
       "    .dataframe tbody tr th {\n",
       "        vertical-align: top;\n",
       "    }\n",
       "\n",
       "    .dataframe thead th {\n",
       "        text-align: right;\n",
       "    }\n",
       "</style>\n",
       "<table border=\"1\" class=\"dataframe\">\n",
       "  <thead>\n",
       "    <tr style=\"text-align: right;\">\n",
       "      <th></th>\n",
       "      <th>PassengerId</th>\n",
       "      <th>Survived</th>\n",
       "      <th>Pclass</th>\n",
       "      <th>Name</th>\n",
       "      <th>Sex</th>\n",
       "      <th>Age</th>\n",
       "      <th>SibSp</th>\n",
       "      <th>Parch</th>\n",
       "      <th>Ticket</th>\n",
       "      <th>Fare</th>\n",
       "      <th>Cabin</th>\n",
       "      <th>Embarked</th>\n",
       "    </tr>\n",
       "  </thead>\n",
       "  <tbody>\n",
       "    <tr>\n",
       "      <th>0</th>\n",
       "      <td>1</td>\n",
       "      <td>0</td>\n",
       "      <td>3</td>\n",
       "      <td>Braund, Mr. Owen Harris</td>\n",
       "      <td>male</td>\n",
       "      <td>22.0</td>\n",
       "      <td>1</td>\n",
       "      <td>0</td>\n",
       "      <td>A/5 21171</td>\n",
       "      <td>7.2500</td>\n",
       "      <td>NaN</td>\n",
       "      <td>S</td>\n",
       "    </tr>\n",
       "    <tr>\n",
       "      <th>1</th>\n",
       "      <td>2</td>\n",
       "      <td>1</td>\n",
       "      <td>1</td>\n",
       "      <td>Cumings, Mrs. John Bradley (Florence Briggs Th...</td>\n",
       "      <td>female</td>\n",
       "      <td>38.0</td>\n",
       "      <td>1</td>\n",
       "      <td>0</td>\n",
       "      <td>PC 17599</td>\n",
       "      <td>71.2833</td>\n",
       "      <td>C85</td>\n",
       "      <td>C</td>\n",
       "    </tr>\n",
       "    <tr>\n",
       "      <th>2</th>\n",
       "      <td>3</td>\n",
       "      <td>1</td>\n",
       "      <td>3</td>\n",
       "      <td>Heikkinen, Miss. Laina</td>\n",
       "      <td>female</td>\n",
       "      <td>26.0</td>\n",
       "      <td>0</td>\n",
       "      <td>0</td>\n",
       "      <td>STON/O2. 3101282</td>\n",
       "      <td>7.9250</td>\n",
       "      <td>NaN</td>\n",
       "      <td>S</td>\n",
       "    </tr>\n",
       "  </tbody>\n",
       "</table>\n",
       "</div>"
      ],
      "text/plain": [
       "   PassengerId  Survived  Pclass  \\\n",
       "0            1         0       3   \n",
       "1            2         1       1   \n",
       "2            3         1       3   \n",
       "\n",
       "                                                Name     Sex   Age  SibSp  \\\n",
       "0                            Braund, Mr. Owen Harris    male  22.0      1   \n",
       "1  Cumings, Mrs. John Bradley (Florence Briggs Th...  female  38.0      1   \n",
       "2                             Heikkinen, Miss. Laina  female  26.0      0   \n",
       "\n",
       "   Parch            Ticket     Fare Cabin Embarked  \n",
       "0      0         A/5 21171   7.2500   NaN        S  \n",
       "1      0          PC 17599  71.2833   C85        C  \n",
       "2      0  STON/O2. 3101282   7.9250   NaN        S  "
      ]
     },
     "execution_count": 5,
     "metadata": {},
     "output_type": "execute_result"
    }
   ],
   "source": [
    "# Load in the train and test datasets\n",
    "train = pd.read_csv('~/Data/Titanic/train.csv')\n",
    "test = pd.read_csv('~/Data/Titanic/test.csv')\n",
    "\n",
    "# Store our passenger ID for easy access\n",
    "PassengerId = test['PassengerId']\n",
    "\n",
    "train.head(3)"
   ]
  },
  {
   "cell_type": "code",
   "execution_count": 6,
   "metadata": {},
   "outputs": [],
   "source": [
    "full_data = [train, test]"
   ]
  },
  {
   "cell_type": "code",
   "execution_count": 7,
   "metadata": {},
   "outputs": [],
   "source": [
    "SFD = ['Ticket'] #columns scheduled for deletion"
   ]
  },
  {
   "cell_type": "markdown",
   "metadata": {},
   "source": [
    "#### name"
   ]
  },
  {
   "cell_type": "markdown",
   "metadata": {},
   "source": [
    "name length"
   ]
  },
  {
   "cell_type": "code",
   "execution_count": 8,
   "metadata": {},
   "outputs": [],
   "source": [
    "#add name length feature\n",
    "for dataset in full_data:\n",
    "    dataset['Name_length'] = dataset['Name'].apply(len)"
   ]
  },
  {
   "cell_type": "markdown",
   "metadata": {},
   "source": [
    "name title"
   ]
  },
  {
   "cell_type": "code",
   "execution_count": 9,
   "metadata": {},
   "outputs": [],
   "source": [
    "# extract titles from passenger names\n",
    "def get_title(name):\n",
    "    title_search = re.search(' ([A-Za-z]+)\\.', name)\n",
    "    # If the title exists, extract and return it.\n",
    "    if title_search:\n",
    "        return title_search.group(1)\n",
    "    return \"\"\n",
    "\n",
    "# Create a new feature Title, containing the titles of passenger names\n",
    "for dataset in full_data:\n",
    "    dataset['Title'] = dataset['Name'].apply(get_title)\n",
    "    \n",
    "# Group all non-common titles into one single grouping \"Rare\"\n",
    "for dataset in full_data:\n",
    "    dataset['Title'] = dataset['Title'].replace(['Lady', 'Countess','Capt', 'Col','Don', 'Dr', 'Major', 'Rev', 'Sir', 'Jonkheer', 'Dona'], 'Rare_title')\n",
    "\n",
    "    dataset['Title'] = dataset['Title'].replace('Mlle', 'Miss')\n",
    "    dataset['Title'] = dataset['Title'].replace('Ms', 'Miss')\n",
    "    dataset['Title'] = dataset['Title'].replace('Mme', 'Mrs')\n"
   ]
  },
  {
   "cell_type": "code",
   "execution_count": 10,
   "metadata": {},
   "outputs": [
    {
     "data": {
      "text/plain": [
       "array(['Mr', 'Mrs', 'Miss', 'Master', 'Rare_title'], dtype=object)"
      ]
     },
     "execution_count": 10,
     "metadata": {},
     "output_type": "execute_result"
    }
   ],
   "source": [
    "dataset.Title.unique()"
   ]
  },
  {
   "cell_type": "code",
   "execution_count": 11,
   "metadata": {},
   "outputs": [],
   "source": [
    "for dataset in full_data:\n",
    "    for Title in dataset.Title.unique():\n",
    "        dataset[Title]=dataset['Title'].apply(lambda x: 1 if x==Title else 0)"
   ]
  },
  {
   "cell_type": "code",
   "execution_count": 12,
   "metadata": {},
   "outputs": [],
   "source": [
    "SFD.append('Name') #schedule for deletion\n",
    "SFD.append('Title') #schedule for deletion"
   ]
  },
  {
   "cell_type": "markdown",
   "metadata": {},
   "source": [
    "#### alone"
   ]
  },
  {
   "cell_type": "code",
   "execution_count": 13,
   "metadata": {},
   "outputs": [],
   "source": [
    "#add if passenger travels alone\n",
    "for dataset in full_data:\n",
    "    dataset['Alone'] = dataset[\"SibSp\"]+dataset[\"Parch\"]\n",
    "    dataset['Alone'] = dataset['Alone'].apply(lambda x: 1 if x== 0 else 0 )"
   ]
  },
  {
   "cell_type": "markdown",
   "metadata": {},
   "source": [
    "#### cabin"
   ]
  },
  {
   "cell_type": "code",
   "execution_count": 14,
   "metadata": {},
   "outputs": [],
   "source": [
    "#add binary cabin feature\n",
    "for dataset in full_data:\n",
    "    dataset['Cabin'] = dataset[\"Cabin\"].apply(lambda x: 0 if type(x) == float else 1)"
   ]
  },
  {
   "cell_type": "markdown",
   "metadata": {},
   "source": [
    "#### sex"
   ]
  },
  {
   "cell_type": "code",
   "execution_count": 15,
   "metadata": {},
   "outputs": [],
   "source": [
    "#add binary cabin feature\n",
    "for dataset in full_data:\n",
    "    dataset['Sex'] = dataset[\"Sex\"].apply(lambda x: 0 if x == 'male' else 1)"
   ]
  },
  {
   "cell_type": "markdown",
   "metadata": {},
   "source": [
    "#### port"
   ]
  },
  {
   "cell_type": "code",
   "execution_count": 16,
   "metadata": {},
   "outputs": [],
   "source": [
    "for dataset in full_data:\n",
    "    dataset['port_S']=dataset['Embarked'].apply(lambda x: 1 if x=='S' else 0)\n",
    "    dataset['port_C']=dataset['Embarked'].apply(lambda x: 1 if x=='C' else 0)\n",
    "    dataset['port_Q']=dataset['Embarked'].apply(lambda x: 1 if x=='Q' else 0)"
   ]
  },
  {
   "cell_type": "code",
   "execution_count": 17,
   "metadata": {},
   "outputs": [],
   "source": [
    "SFD.append('Embarked') #schedule for deletion"
   ]
  },
  {
   "cell_type": "code",
   "execution_count": 18,
   "metadata": {
    "scrolled": true
   },
   "outputs": [
    {
     "data": {
      "text/html": [
       "<div>\n",
       "<style scoped>\n",
       "    .dataframe tbody tr th:only-of-type {\n",
       "        vertical-align: middle;\n",
       "    }\n",
       "\n",
       "    .dataframe tbody tr th {\n",
       "        vertical-align: top;\n",
       "    }\n",
       "\n",
       "    .dataframe thead th {\n",
       "        text-align: right;\n",
       "    }\n",
       "</style>\n",
       "<table border=\"1\" class=\"dataframe\">\n",
       "  <thead>\n",
       "    <tr style=\"text-align: right;\">\n",
       "      <th></th>\n",
       "      <th>PassengerId</th>\n",
       "      <th>Survived</th>\n",
       "      <th>Pclass</th>\n",
       "      <th>Name</th>\n",
       "      <th>Sex</th>\n",
       "      <th>Age</th>\n",
       "      <th>SibSp</th>\n",
       "      <th>Parch</th>\n",
       "      <th>Ticket</th>\n",
       "      <th>Fare</th>\n",
       "      <th>...</th>\n",
       "      <th>Title</th>\n",
       "      <th>Mr</th>\n",
       "      <th>Mrs</th>\n",
       "      <th>Miss</th>\n",
       "      <th>Master</th>\n",
       "      <th>Rare_title</th>\n",
       "      <th>Alone</th>\n",
       "      <th>port_S</th>\n",
       "      <th>port_C</th>\n",
       "      <th>port_Q</th>\n",
       "    </tr>\n",
       "  </thead>\n",
       "  <tbody>\n",
       "    <tr>\n",
       "      <th>0</th>\n",
       "      <td>1</td>\n",
       "      <td>0</td>\n",
       "      <td>3</td>\n",
       "      <td>Braund, Mr. Owen Harris</td>\n",
       "      <td>0</td>\n",
       "      <td>22.0</td>\n",
       "      <td>1</td>\n",
       "      <td>0</td>\n",
       "      <td>A/5 21171</td>\n",
       "      <td>7.2500</td>\n",
       "      <td>...</td>\n",
       "      <td>Mr</td>\n",
       "      <td>1</td>\n",
       "      <td>0</td>\n",
       "      <td>0</td>\n",
       "      <td>0</td>\n",
       "      <td>0</td>\n",
       "      <td>0</td>\n",
       "      <td>1</td>\n",
       "      <td>0</td>\n",
       "      <td>0</td>\n",
       "    </tr>\n",
       "    <tr>\n",
       "      <th>1</th>\n",
       "      <td>2</td>\n",
       "      <td>1</td>\n",
       "      <td>1</td>\n",
       "      <td>Cumings, Mrs. John Bradley (Florence Briggs Th...</td>\n",
       "      <td>1</td>\n",
       "      <td>38.0</td>\n",
       "      <td>1</td>\n",
       "      <td>0</td>\n",
       "      <td>PC 17599</td>\n",
       "      <td>71.2833</td>\n",
       "      <td>...</td>\n",
       "      <td>Mrs</td>\n",
       "      <td>0</td>\n",
       "      <td>1</td>\n",
       "      <td>0</td>\n",
       "      <td>0</td>\n",
       "      <td>0</td>\n",
       "      <td>0</td>\n",
       "      <td>0</td>\n",
       "      <td>1</td>\n",
       "      <td>0</td>\n",
       "    </tr>\n",
       "    <tr>\n",
       "      <th>2</th>\n",
       "      <td>3</td>\n",
       "      <td>1</td>\n",
       "      <td>3</td>\n",
       "      <td>Heikkinen, Miss. Laina</td>\n",
       "      <td>1</td>\n",
       "      <td>26.0</td>\n",
       "      <td>0</td>\n",
       "      <td>0</td>\n",
       "      <td>STON/O2. 3101282</td>\n",
       "      <td>7.9250</td>\n",
       "      <td>...</td>\n",
       "      <td>Miss</td>\n",
       "      <td>0</td>\n",
       "      <td>0</td>\n",
       "      <td>1</td>\n",
       "      <td>0</td>\n",
       "      <td>0</td>\n",
       "      <td>1</td>\n",
       "      <td>1</td>\n",
       "      <td>0</td>\n",
       "      <td>0</td>\n",
       "    </tr>\n",
       "  </tbody>\n",
       "</table>\n",
       "<p>3 rows × 23 columns</p>\n",
       "</div>"
      ],
      "text/plain": [
       "   PassengerId  Survived  Pclass  \\\n",
       "0            1         0       3   \n",
       "1            2         1       1   \n",
       "2            3         1       3   \n",
       "\n",
       "                                                Name  Sex   Age  SibSp  Parch  \\\n",
       "0                            Braund, Mr. Owen Harris    0  22.0      1      0   \n",
       "1  Cumings, Mrs. John Bradley (Florence Briggs Th...    1  38.0      1      0   \n",
       "2                             Heikkinen, Miss. Laina    1  26.0      0      0   \n",
       "\n",
       "             Ticket     Fare   ...    Title Mr  Mrs Miss  Master  Rare_title  \\\n",
       "0         A/5 21171   7.2500   ...       Mr  1    0    0       0           0   \n",
       "1          PC 17599  71.2833   ...      Mrs  0    1    0       0           0   \n",
       "2  STON/O2. 3101282   7.9250   ...     Miss  0    0    1       0           0   \n",
       "\n",
       "   Alone  port_S  port_C  port_Q  \n",
       "0      0       1       0       0  \n",
       "1      0       0       1       0  \n",
       "2      1       1       0       0  \n",
       "\n",
       "[3 rows x 23 columns]"
      ]
     },
     "execution_count": 18,
     "metadata": {},
     "output_type": "execute_result"
    }
   ],
   "source": [
    "train.head(3)"
   ]
  },
  {
   "cell_type": "code",
   "execution_count": 19,
   "metadata": {},
   "outputs": [
    {
     "name": "stdout",
     "output_type": "stream",
     "text": [
      "['Embarked', 'Ticket', 'Name', 'Title']\n"
     ]
    }
   ],
   "source": [
    "SFD = list(set(SFD))\n",
    "print(SFD)\n",
    "train = train.drop(SFD,axis=1)\n",
    "test = test.drop(SFD,axis=1)"
   ]
  },
  {
   "cell_type": "code",
   "execution_count": 20,
   "metadata": {},
   "outputs": [
    {
     "data": {
      "text/html": [
       "<div>\n",
       "<style scoped>\n",
       "    .dataframe tbody tr th:only-of-type {\n",
       "        vertical-align: middle;\n",
       "    }\n",
       "\n",
       "    .dataframe tbody tr th {\n",
       "        vertical-align: top;\n",
       "    }\n",
       "\n",
       "    .dataframe thead th {\n",
       "        text-align: right;\n",
       "    }\n",
       "</style>\n",
       "<table border=\"1\" class=\"dataframe\">\n",
       "  <thead>\n",
       "    <tr style=\"text-align: right;\">\n",
       "      <th></th>\n",
       "      <th>PassengerId</th>\n",
       "      <th>Survived</th>\n",
       "      <th>Pclass</th>\n",
       "      <th>Sex</th>\n",
       "      <th>Age</th>\n",
       "      <th>SibSp</th>\n",
       "      <th>Parch</th>\n",
       "      <th>Fare</th>\n",
       "      <th>Cabin</th>\n",
       "      <th>Name_length</th>\n",
       "      <th>Mr</th>\n",
       "      <th>Mrs</th>\n",
       "      <th>Miss</th>\n",
       "      <th>Master</th>\n",
       "      <th>Rare_title</th>\n",
       "      <th>Alone</th>\n",
       "      <th>port_S</th>\n",
       "      <th>port_C</th>\n",
       "      <th>port_Q</th>\n",
       "    </tr>\n",
       "  </thead>\n",
       "  <tbody>\n",
       "    <tr>\n",
       "      <th>0</th>\n",
       "      <td>1</td>\n",
       "      <td>0</td>\n",
       "      <td>3</td>\n",
       "      <td>0</td>\n",
       "      <td>22.0</td>\n",
       "      <td>1</td>\n",
       "      <td>0</td>\n",
       "      <td>7.2500</td>\n",
       "      <td>0</td>\n",
       "      <td>23</td>\n",
       "      <td>1</td>\n",
       "      <td>0</td>\n",
       "      <td>0</td>\n",
       "      <td>0</td>\n",
       "      <td>0</td>\n",
       "      <td>0</td>\n",
       "      <td>1</td>\n",
       "      <td>0</td>\n",
       "      <td>0</td>\n",
       "    </tr>\n",
       "    <tr>\n",
       "      <th>1</th>\n",
       "      <td>2</td>\n",
       "      <td>1</td>\n",
       "      <td>1</td>\n",
       "      <td>1</td>\n",
       "      <td>38.0</td>\n",
       "      <td>1</td>\n",
       "      <td>0</td>\n",
       "      <td>71.2833</td>\n",
       "      <td>1</td>\n",
       "      <td>51</td>\n",
       "      <td>0</td>\n",
       "      <td>1</td>\n",
       "      <td>0</td>\n",
       "      <td>0</td>\n",
       "      <td>0</td>\n",
       "      <td>0</td>\n",
       "      <td>0</td>\n",
       "      <td>1</td>\n",
       "      <td>0</td>\n",
       "    </tr>\n",
       "    <tr>\n",
       "      <th>2</th>\n",
       "      <td>3</td>\n",
       "      <td>1</td>\n",
       "      <td>3</td>\n",
       "      <td>1</td>\n",
       "      <td>26.0</td>\n",
       "      <td>0</td>\n",
       "      <td>0</td>\n",
       "      <td>7.9250</td>\n",
       "      <td>0</td>\n",
       "      <td>22</td>\n",
       "      <td>0</td>\n",
       "      <td>0</td>\n",
       "      <td>1</td>\n",
       "      <td>0</td>\n",
       "      <td>0</td>\n",
       "      <td>1</td>\n",
       "      <td>1</td>\n",
       "      <td>0</td>\n",
       "      <td>0</td>\n",
       "    </tr>\n",
       "  </tbody>\n",
       "</table>\n",
       "</div>"
      ],
      "text/plain": [
       "   PassengerId  Survived  Pclass  Sex   Age  SibSp  Parch     Fare  Cabin  \\\n",
       "0            1         0       3    0  22.0      1      0   7.2500      0   \n",
       "1            2         1       1    1  38.0      1      0  71.2833      1   \n",
       "2            3         1       3    1  26.0      0      0   7.9250      0   \n",
       "\n",
       "   Name_length  Mr  Mrs  Miss  Master  Rare_title  Alone  port_S  port_C  \\\n",
       "0           23   1    0     0       0           0      0       1       0   \n",
       "1           51   0    1     0       0           0      0       0       1   \n",
       "2           22   0    0     1       0           0      1       1       0   \n",
       "\n",
       "   port_Q  \n",
       "0       0  \n",
       "1       0  \n",
       "2       0  "
      ]
     },
     "execution_count": 20,
     "metadata": {},
     "output_type": "execute_result"
    }
   ],
   "source": [
    "train.head(3)"
   ]
  },
  {
   "cell_type": "markdown",
   "metadata": {},
   "source": [
    "it looks like there are some NANs in the data. We'll drop the rows where that happens. Ideally we would like to be robust against that, especially for the purpose of predicting the test data, but we'll not bother with this for now."
   ]
  },
  {
   "cell_type": "code",
   "execution_count": 21,
   "metadata": {},
   "outputs": [
    {
     "data": {
      "text/plain": [
       "PassengerId      0\n",
       "Survived         0\n",
       "Pclass           0\n",
       "Sex              0\n",
       "Age            177\n",
       "SibSp            0\n",
       "Parch            0\n",
       "Fare             0\n",
       "Cabin            0\n",
       "Name_length      0\n",
       "Mr               0\n",
       "Mrs              0\n",
       "Miss             0\n",
       "Master           0\n",
       "Rare_title       0\n",
       "Alone            0\n",
       "port_S           0\n",
       "port_C           0\n",
       "port_Q           0\n",
       "dtype: int64"
      ]
     },
     "execution_count": 21,
     "metadata": {},
     "output_type": "execute_result"
    }
   ],
   "source": [
    "train.isnull().sum()"
   ]
  },
  {
   "cell_type": "code",
   "execution_count": 22,
   "metadata": {},
   "outputs": [],
   "source": [
    "train = train[np.isfinite(train['Age'])]\n",
    "test = test[np.isfinite(test['Age'])]"
   ]
  },
  {
   "cell_type": "markdown",
   "metadata": {},
   "source": [
    "### rescale the data"
   ]
  },
  {
   "cell_type": "code",
   "execution_count": 23,
   "metadata": {},
   "outputs": [],
   "source": [
    "train[train.columns] -= train[train.columns].min()\n",
    "train[train.columns] /= train[train.columns].max()"
   ]
  },
  {
   "cell_type": "code",
   "execution_count": 24,
   "metadata": {},
   "outputs": [
    {
     "data": {
      "text/html": [
       "<div>\n",
       "<style scoped>\n",
       "    .dataframe tbody tr th:only-of-type {\n",
       "        vertical-align: middle;\n",
       "    }\n",
       "\n",
       "    .dataframe tbody tr th {\n",
       "        vertical-align: top;\n",
       "    }\n",
       "\n",
       "    .dataframe thead th {\n",
       "        text-align: right;\n",
       "    }\n",
       "</style>\n",
       "<table border=\"1\" class=\"dataframe\">\n",
       "  <thead>\n",
       "    <tr style=\"text-align: right;\">\n",
       "      <th></th>\n",
       "      <th>PassengerId</th>\n",
       "      <th>Survived</th>\n",
       "      <th>Pclass</th>\n",
       "      <th>Sex</th>\n",
       "      <th>Age</th>\n",
       "      <th>SibSp</th>\n",
       "      <th>Parch</th>\n",
       "      <th>Fare</th>\n",
       "      <th>Cabin</th>\n",
       "      <th>Name_length</th>\n",
       "      <th>Mr</th>\n",
       "      <th>Mrs</th>\n",
       "      <th>Miss</th>\n",
       "      <th>Master</th>\n",
       "      <th>Rare_title</th>\n",
       "      <th>Alone</th>\n",
       "      <th>port_S</th>\n",
       "      <th>port_C</th>\n",
       "      <th>port_Q</th>\n",
       "    </tr>\n",
       "  </thead>\n",
       "  <tbody>\n",
       "    <tr>\n",
       "      <th>0</th>\n",
       "      <td>0.000000</td>\n",
       "      <td>0.0</td>\n",
       "      <td>1.0</td>\n",
       "      <td>0.0</td>\n",
       "      <td>0.271174</td>\n",
       "      <td>0.2</td>\n",
       "      <td>0.0</td>\n",
       "      <td>0.014151</td>\n",
       "      <td>0.0</td>\n",
       "      <td>0.144928</td>\n",
       "      <td>1.0</td>\n",
       "      <td>0.0</td>\n",
       "      <td>0.0</td>\n",
       "      <td>0.0</td>\n",
       "      <td>0.0</td>\n",
       "      <td>0.0</td>\n",
       "      <td>1.0</td>\n",
       "      <td>0.0</td>\n",
       "      <td>0.0</td>\n",
       "    </tr>\n",
       "    <tr>\n",
       "      <th>1</th>\n",
       "      <td>0.001124</td>\n",
       "      <td>1.0</td>\n",
       "      <td>0.0</td>\n",
       "      <td>1.0</td>\n",
       "      <td>0.472229</td>\n",
       "      <td>0.2</td>\n",
       "      <td>0.0</td>\n",
       "      <td>0.139136</td>\n",
       "      <td>1.0</td>\n",
       "      <td>0.550725</td>\n",
       "      <td>0.0</td>\n",
       "      <td>1.0</td>\n",
       "      <td>0.0</td>\n",
       "      <td>0.0</td>\n",
       "      <td>0.0</td>\n",
       "      <td>0.0</td>\n",
       "      <td>0.0</td>\n",
       "      <td>1.0</td>\n",
       "      <td>0.0</td>\n",
       "    </tr>\n",
       "    <tr>\n",
       "      <th>2</th>\n",
       "      <td>0.002247</td>\n",
       "      <td>1.0</td>\n",
       "      <td>1.0</td>\n",
       "      <td>1.0</td>\n",
       "      <td>0.321438</td>\n",
       "      <td>0.0</td>\n",
       "      <td>0.0</td>\n",
       "      <td>0.015469</td>\n",
       "      <td>0.0</td>\n",
       "      <td>0.130435</td>\n",
       "      <td>0.0</td>\n",
       "      <td>0.0</td>\n",
       "      <td>1.0</td>\n",
       "      <td>0.0</td>\n",
       "      <td>0.0</td>\n",
       "      <td>1.0</td>\n",
       "      <td>1.0</td>\n",
       "      <td>0.0</td>\n",
       "      <td>0.0</td>\n",
       "    </tr>\n",
       "    <tr>\n",
       "      <th>3</th>\n",
       "      <td>0.003371</td>\n",
       "      <td>1.0</td>\n",
       "      <td>0.0</td>\n",
       "      <td>1.0</td>\n",
       "      <td>0.434531</td>\n",
       "      <td>0.2</td>\n",
       "      <td>0.0</td>\n",
       "      <td>0.103644</td>\n",
       "      <td>1.0</td>\n",
       "      <td>0.449275</td>\n",
       "      <td>0.0</td>\n",
       "      <td>1.0</td>\n",
       "      <td>0.0</td>\n",
       "      <td>0.0</td>\n",
       "      <td>0.0</td>\n",
       "      <td>0.0</td>\n",
       "      <td>1.0</td>\n",
       "      <td>0.0</td>\n",
       "      <td>0.0</td>\n",
       "    </tr>\n",
       "    <tr>\n",
       "      <th>4</th>\n",
       "      <td>0.004494</td>\n",
       "      <td>0.0</td>\n",
       "      <td>1.0</td>\n",
       "      <td>0.0</td>\n",
       "      <td>0.434531</td>\n",
       "      <td>0.0</td>\n",
       "      <td>0.0</td>\n",
       "      <td>0.015713</td>\n",
       "      <td>0.0</td>\n",
       "      <td>0.159420</td>\n",
       "      <td>1.0</td>\n",
       "      <td>0.0</td>\n",
       "      <td>0.0</td>\n",
       "      <td>0.0</td>\n",
       "      <td>0.0</td>\n",
       "      <td>1.0</td>\n",
       "      <td>1.0</td>\n",
       "      <td>0.0</td>\n",
       "      <td>0.0</td>\n",
       "    </tr>\n",
       "  </tbody>\n",
       "</table>\n",
       "</div>"
      ],
      "text/plain": [
       "   PassengerId  Survived  Pclass  Sex       Age  SibSp  Parch      Fare  \\\n",
       "0     0.000000       0.0     1.0  0.0  0.271174    0.2    0.0  0.014151   \n",
       "1     0.001124       1.0     0.0  1.0  0.472229    0.2    0.0  0.139136   \n",
       "2     0.002247       1.0     1.0  1.0  0.321438    0.0    0.0  0.015469   \n",
       "3     0.003371       1.0     0.0  1.0  0.434531    0.2    0.0  0.103644   \n",
       "4     0.004494       0.0     1.0  0.0  0.434531    0.0    0.0  0.015713   \n",
       "\n",
       "   Cabin  Name_length   Mr  Mrs  Miss  Master  Rare_title  Alone  port_S  \\\n",
       "0    0.0     0.144928  1.0  0.0   0.0     0.0         0.0    0.0     1.0   \n",
       "1    1.0     0.550725  0.0  1.0   0.0     0.0         0.0    0.0     0.0   \n",
       "2    0.0     0.130435  0.0  0.0   1.0     0.0         0.0    1.0     1.0   \n",
       "3    1.0     0.449275  0.0  1.0   0.0     0.0         0.0    0.0     1.0   \n",
       "4    0.0     0.159420  1.0  0.0   0.0     0.0         0.0    1.0     1.0   \n",
       "\n",
       "   port_C  port_Q  \n",
       "0     0.0     0.0  \n",
       "1     1.0     0.0  \n",
       "2     0.0     0.0  \n",
       "3     0.0     0.0  \n",
       "4     0.0     0.0  "
      ]
     },
     "execution_count": 24,
     "metadata": {},
     "output_type": "execute_result"
    }
   ],
   "source": [
    "train.head()"
   ]
  },
  {
   "cell_type": "markdown",
   "metadata": {},
   "source": [
    "### 1. info theory"
   ]
  },
  {
   "cell_type": "markdown",
   "metadata": {},
   "source": [
    "Build the joint probability distributions to be used later for the info theory measurements. In order to get good stats, all of the variables that have more than the specified max_class possible values (eg. name_length, fare, age) are binned into max_class number of states. "
   ]
  },
  {
   "cell_type": "code",
   "execution_count": 25,
   "metadata": {},
   "outputs": [],
   "source": [
    "def prob(data,max_class=3): \n",
    "    '''build joint distribution from data. columns are the variables x_1,...,x_n. it returns P(x_1,...,x_n).\n",
    "    max_class: maximum number of states per variable desired'''\n",
    "    if len(data.shape) == 1: bins = min(max_class,len(set(data)))\n",
    "    else:\n",
    "        bins = [] #how many bins to use per variable \n",
    "        for i in range(data.shape[1]):\n",
    "            bins.append(min(max_class,len(set(data[:,i]))))\n",
    "                    \n",
    "    prob, edges = np.histogramdd(data,bins)\n",
    "                    \n",
    "    return prob/np.sum(prob)"
   ]
  },
  {
   "cell_type": "code",
   "execution_count": 26,
   "metadata": {},
   "outputs": [],
   "source": [
    "p = prob(train[['Survived','Sex','Pclass']].values)"
   ]
  },
  {
   "cell_type": "code",
   "execution_count": 27,
   "metadata": {},
   "outputs": [
    {
     "data": {
      "text/plain": [
       "array([0.59383754, 0.40616246])"
      ]
     },
     "execution_count": 27,
     "metadata": {},
     "output_type": "execute_result"
    }
   ],
   "source": [
    "sum(p,axis=(1,2))"
   ]
  },
  {
   "cell_type": "markdown",
   "metadata": {},
   "source": [
    "$H(X) = -\\sum_x P(x)\\mathrm{log}P(x)$"
   ]
  },
  {
   "cell_type": "code",
   "execution_count": 28,
   "metadata": {},
   "outputs": [],
   "source": [
    "def H(prob):\n",
    "    '''shannon entropy H = -sum_i p_i*log(p_i)'''\n",
    "    prob = prob.flatten()\n",
    "    H = 0.\n",
    "    for p_i in prob[prob!=0]: H -= p_i*np.log2(p_i)\n",
    "    return H"
   ]
  },
  {
   "cell_type": "markdown",
   "metadata": {},
   "source": [
    "$H(X|Y) = H(X,Y)-H(Y)$"
   ]
  },
  {
   "cell_type": "code",
   "execution_count": 29,
   "metadata": {},
   "outputs": [],
   "source": [
    "def H_cond_j(prob,j):\n",
    "    '''entropy of P conditional on variable j'''\n",
    "    non_j = arange(len(prob.shape))#non_j indices\n",
    "    non_j = tuple(non_j[non_j!=j])\n",
    "    return H(prob) - H(sum(prob,axis=non_j))"
   ]
  },
  {
   "cell_type": "markdown",
   "metadata": {},
   "source": [
    "$I(X;Y) = H(X)-H(X|Y)$"
   ]
  },
  {
   "cell_type": "code",
   "execution_count": 30,
   "metadata": {},
   "outputs": [],
   "source": [
    "def I(prob,j):\n",
    "    '''mutual information between all variables and variable j'''\n",
    "    return H(sum(prob,axis=j)) - H_cond_j(prob,j)"
   ]
  },
  {
   "cell_type": "markdown",
   "metadata": {},
   "source": [
    "$H(X|Y,Z) = H(X,Y,Z)-H(Y,Z)$"
   ]
  },
  {
   "cell_type": "code",
   "execution_count": 31,
   "metadata": {},
   "outputs": [],
   "source": [
    "def H_cond_jk(prob,j,k):\n",
    "    '''entropy of P conditional on variables j k'''\n",
    "    non_jk = arange(len(prob.shape))#non_j indices\n",
    "    non_jk = tuple(non_jk[(non_jk!=j)&(non_jk!=k)])\n",
    "    return H(prob) - H(sum(prob,axis=non_jk))"
   ]
  },
  {
   "cell_type": "markdown",
   "metadata": {},
   "source": [
    "$I(X;Y|Z) = H(X|Z)-H(X|Y,Z)$"
   ]
  },
  {
   "cell_type": "code",
   "execution_count": 32,
   "metadata": {},
   "outputs": [],
   "source": [
    "def I_cond_k(prob,j,k):\n",
    "    '''mutual information between all variables (X) and variable j (Y), conditional on k (Z)'''\n",
    "    if k < j:\n",
    "        return H_cond_j(sum(prob,axis=j),k) - H_cond_jk(prob,j,k)\n",
    "    else:\n",
    "        return H_cond_j(sum(prob,axis=j),k-1) - H_cond_jk(prob,j,k)"
   ]
  },
  {
   "cell_type": "markdown",
   "metadata": {},
   "source": [
    "### 2. pairwise mutual information ranks"
   ]
  },
  {
   "cell_type": "markdown",
   "metadata": {},
   "source": [
    "The most common implementation of feature selection that involves mutual information consists in simply ranking variables features $X_i$ by their mutual information with the target function $Y$, ie $I(X_i;Y)$. This can be implemented with [sklearn.feature_selection.SelectKBest](https://scikit-learn.org/stable/modules/generated/sklearn.feature_selection.SelectKBest.html#sklearn.feature_selection.SelectKBest) with score_func = mutual_info_classifier.\n",
    "\n",
    "Let's compare the rankings obtained from the package and our functions defined above (differences may be due to how the variables are binned into discrete states)"
   ]
  },
  {
   "cell_type": "markdown",
   "metadata": {},
   "source": [
    "#### skit-learn"
   ]
  },
  {
   "cell_type": "code",
   "execution_count": 33,
   "metadata": {},
   "outputs": [],
   "source": [
    "from sklearn.feature_selection import SelectKBest, mutual_info_classif"
   ]
  },
  {
   "cell_type": "code",
   "execution_count": 34,
   "metadata": {},
   "outputs": [],
   "source": [
    "model = SelectKBest(mutual_info_classif,'all')\n",
    "model.fit(train[train.columns[2:]].values,train['Survived'].values)\n",
    "scikit_scores = model.scores_"
   ]
  },
  {
   "cell_type": "code",
   "execution_count": 35,
   "metadata": {},
   "outputs": [],
   "source": [
    "scikit_sorted = [[i,e] for i,e in enumerate(scikit_scores)]\n",
    "scikit_sorted = [i for i,e in sorted(scikit_sorted,key=lambda x: x[1])][::-1]"
   ]
  },
  {
   "cell_type": "code",
   "execution_count": 36,
   "metadata": {
    "scrolled": true
   },
   "outputs": [
    {
     "data": {
      "text/plain": [
       "([<matplotlib.axis.XTick at 0x7fad42bb7828>,\n",
       "  <matplotlib.axis.XTick at 0x7fad42bb7160>,\n",
       "  <matplotlib.axis.XTick at 0x7fad42ba8320>,\n",
       "  <matplotlib.axis.XTick at 0x7fad42b1e0b8>,\n",
       "  <matplotlib.axis.XTick at 0x7fad42b1e518>,\n",
       "  <matplotlib.axis.XTick at 0x7fad42b1ea20>,\n",
       "  <matplotlib.axis.XTick at 0x7fad42b1e9e8>,\n",
       "  <matplotlib.axis.XTick at 0x7fad42b250f0>,\n",
       "  <matplotlib.axis.XTick at 0x7fad42b25588>,\n",
       "  <matplotlib.axis.XTick at 0x7fad42b25a90>,\n",
       "  <matplotlib.axis.XTick at 0x7fad42b25e80>,\n",
       "  <matplotlib.axis.XTick at 0x7fad42b2d4e0>,\n",
       "  <matplotlib.axis.XTick at 0x7fad42b2d9e8>,\n",
       "  <matplotlib.axis.XTick at 0x7fad42b2def0>,\n",
       "  <matplotlib.axis.XTick at 0x7fad42b34438>,\n",
       "  <matplotlib.axis.XTick at 0x7fad42b2dac8>,\n",
       "  <matplotlib.axis.XTick at 0x7fad42b25550>],\n",
       " <a list of 17 Text xticklabel objects>)"
      ]
     },
     "execution_count": 36,
     "metadata": {},
     "output_type": "execute_result"
    },
    {
     "data": {
      "image/png": "[encoded data removed]",
      "text/plain": [
       "<Figure size 432x288 with 1 Axes>"
      ]
     },
     "metadata": {
      "needs_background": "light"
     },
     "output_type": "display_data"
    }
   ],
   "source": [
    "figure()\n",
    "bar(arange(len(scikit_scores)),scikit_scores[scikit_sorted])\n",
    "xticks(arange(len(scikit_scores)),train.columns[2:][scikit_sorted],rotation=90)"
   ]
  },
  {
   "cell_type": "markdown",
   "metadata": {},
   "source": [
    "#### our implementation"
   ]
  },
  {
   "cell_type": "code",
   "execution_count": 37,
   "metadata": {},
   "outputs": [],
   "source": [
    "our_scores = []\n",
    "for feature in train.columns[2:]:\n",
    "    our_scores.append(I(prob(train[['Survived',feature]].values,max_class=3),0))\n",
    "our_scores = array(our_scores)"
   ]
  },
  {
   "cell_type": "code",
   "execution_count": 38,
   "metadata": {},
   "outputs": [],
   "source": [
    "our_sorted = [[i,e] for i,e in enumerate(our_scores)]\n",
    "our_sorted = [i for i,e in sorted(our_sorted,key=lambda x: x[1])][::-1]"
   ]
  },
  {
   "cell_type": "code",
   "execution_count": 39,
   "metadata": {},
   "outputs": [
    {
     "data": {
      "text/plain": [
       "([<matplotlib.axis.XTick at 0x7fad42aa9fd0>,\n",
       "  <matplotlib.axis.XTick at 0x7fad42aa9908>,\n",
       "  <matplotlib.axis.XTick at 0x7fad42aa9668>,\n",
       "  <matplotlib.axis.XTick at 0x7fad42a69d30>,\n",
       "  <matplotlib.axis.XTick at 0x7fad42a731d0>,\n",
       "  <matplotlib.axis.XTick at 0x7fad42a736d8>,\n",
       "  <matplotlib.axis.XTick at 0x7fad42a73be0>,\n",
       "  <matplotlib.axis.XTick at 0x7fad42a73cc0>,\n",
       "  <matplotlib.axis.XTick at 0x7fad42a7b160>,\n",
       "  <matplotlib.axis.XTick at 0x7fad42a7b5f8>,\n",
       "  <matplotlib.axis.XTick at 0x7fad42a7bb00>,\n",
       "  <matplotlib.axis.XTick at 0x7fad42a040b8>,\n",
       "  <matplotlib.axis.XTick at 0x7fad42a04550>,\n",
       "  <matplotlib.axis.XTick at 0x7fad42a04a58>,\n",
       "  <matplotlib.axis.XTick at 0x7fad42a04f60>,\n",
       "  <matplotlib.axis.XTick at 0x7fad42a0a4a8>,\n",
       "  <matplotlib.axis.XTick at 0x7fad42a04f28>],\n",
       " <a list of 17 Text xticklabel objects>)"
      ]
     },
     "execution_count": 39,
     "metadata": {},
     "output_type": "execute_result"
    },
    {
     "data": {
      "image/png": "[encoded data removed]",
      "text/plain": [
       "<Figure size 432x288 with 1 Axes>"
      ]
     },
     "metadata": {
      "needs_background": "light"
     },
     "output_type": "display_data"
    }
   ],
   "source": [
    "figure()\n",
    "bar(arange(len(our_scores)),our_scores[our_sorted])\n",
    "xticks(arange(len(our_scores)),train.columns[2:][our_sorted],rotation=90)"
   ]
  },
  {
   "cell_type": "markdown",
   "metadata": {},
   "source": [
    "#### method comparison"
   ]
  },
  {
   "cell_type": "markdown",
   "metadata": {},
   "source": [
    "Although both rank plots look fairly similar, there are some suprising variations. For example, we can extract more information from sex than they do although it's a binary variable. Sciki-learn is better at extracting information from the continuous variable Fare, since we decided to bin Fare into 5 states. Suprisingly, we do much better with Age which is also continuous. Changing the number of max_states changes our results."
   ]
  },
  {
   "cell_type": "code",
   "execution_count": 40,
   "metadata": {},
   "outputs": [
    {
     "data": {
      "text/plain": [
       "Text(0,0.5,'our I(X;Y)')"
      ]
     },
     "execution_count": 40,
     "metadata": {},
     "output_type": "execute_result"
    },
    {
     "data": {
      "image/png": "[encoded data removed]",
      "text/plain": [
       "<Figure size 432x288 with 1 Axes>"
      ]
     },
     "metadata": {
      "needs_background": "light"
     },
     "output_type": "display_data"
    }
   ],
   "source": [
    "figure()\n",
    "plot(scikit_scores, our_scores,'. ')\n",
    "plot([0,.25],[0,.25])\n",
    "xlim(0,0.25);ylim(0,0.25)\n",
    "gca().set_aspect('equal')\n",
    "xlabel('scikit-learn I(X;Y)'); ylabel('our I(X;Y)')"
   ]
  },
  {
   "cell_type": "markdown",
   "metadata": {},
   "source": [
    "Looking at the scikit-learn documentation I've found this:\n",
    "\n",
    "'The function relies on nonparametric methods based on entropy estimation from k-nearest neighbors distances as described in [2] and [3]. Both methods are based on the idea originally proposed in [4].'\n",
    "\n",
    "[2]\tA. Kraskov, H. Stogbauer and P. Grassberger, “Estimating mutual information”. Phys. Rev. E 69, 2004.\n",
    "\n",
    "[3]\tB. C. Ross “Mutual Information between Discrete and Continuous Data Sets”. PLoS ONE 9(2), 2014.\n",
    "\n",
    "[4]\tL. F. Kozachenko, N. N. Leonenko, “Sample Estimate of the Entropy of a Random Vector:, Probl. Peredachi Inf., 23:2 (1987), 9-16\n",
    "\n",
    "Later on I'll take look at what that's exactly doing and why would that mess with such a simple binary calculation such as Sex vs Survival."
   ]
  },
  {
   "cell_type": "markdown",
   "metadata": {},
   "source": [
    "### 3. QUBO"
   ]
  },
  {
   "cell_type": "markdown",
   "metadata": {},
   "source": [
    "As it's shown on the slides 'Global Mutual Information Based Feature Selection by Quantum Annealing' by K Tanahashi, S Takayanagi, T Motohashi and S Tanaka. One can use QUBOs to find a subset $X_S$ of features with size $|S|=k$ such that the mutual information $I(X_S;Y)$ between the union of such features and the target variable is maximal, ie\n",
    "\n",
    "$\\hat S = \\mathrm{arg max}_{|S|=k} I(X_S;Y)$\n",
    "\n",
    "This problem has ${N}\\choose{k}$ possible solutions, so we will formulate the problem as QUBO in order to solve it with a QPU in constant time.\n",
    "\n",
    "After assuming conditional-independence for joint probability distributions, $P(X_1,\\dots,X_{K},Y|X_{K+1})\\approx\\prod_{i}^K P(X_i,Y|X_{K+1})$, the problem can be written as follows\n"
   ]
  },
  {
   "cell_type": "markdown",
   "metadata": {},
   "source": [
    "<img src=./QUBO.png/>"
   ]
  },
  {
   "cell_type": "markdown",
   "metadata": {},
   "source": [
    "(^this image has a typo, alpha should be negative)\n",
    "\n",
    "The green object in the equation above can be further broken down resulting in\n",
    "\n",
    "$ \\hat{\\mathbf{x}} = \\mathrm{arg min}_{\\mathbf{x}\\in \\{0,1\\}} \\Big( \\mathbf{x}^T \\Phi \\mathbf{x} \\Big)$\n",
    "\n",
    "with\n",
    "\n",
    "$\\Phi_{i=j} = -I(X_i;Y)+\\alpha(1-2k)$\n",
    "\n",
    "$\\Phi_{i\\neq j} = -I(X_j;Y|X_i)+\\alpha$\n"
   ]
  },
  {
   "cell_type": "code",
   "execution_count": 41,
   "metadata": {},
   "outputs": [],
   "source": [
    "def make_Phi(data, k, alpha):\n",
    "    '''data contains X and Y; Y is the first column; k is the desired number of features; alpha is the penalty for the number-of-features constraint'''\n",
    "    y_index = 0\n",
    "    dim = data.shape[1]-1\n",
    "    Phi = np.zeros((dim,dim))\n",
    "    \n",
    "    for i in range(dim):\n",
    "        for j in range(dim):\n",
    "                       \n",
    "                if i == j:\n",
    "                    Phi[i,j] =  alpha*(1-2*k) -I(prob(data[:,[i+1,y_index]]),1)\n",
    "\n",
    "                else:\n",
    "                    Phi[i,j] = alpha -I_cond_k(prob(data[:,[j+1,y_index,i+1]]),1,2)\n",
    "    return Phi"
   ]
  },
  {
   "cell_type": "code",
   "execution_count": 42,
   "metadata": {},
   "outputs": [],
   "source": [
    "k = 5\n",
    "alpha = 200"
   ]
  },
  {
   "cell_type": "code",
   "execution_count": 43,
   "metadata": {},
   "outputs": [],
   "source": [
    "Phi = make_Phi(train[train.columns[1:]].values, k = k, alpha = alpha)"
   ]
  },
  {
   "cell_type": "markdown",
   "metadata": {},
   "source": [
    "Solve the problem"
   ]
  },
  {
   "cell_type": "code",
   "execution_count": 44,
   "metadata": {},
   "outputs": [],
   "source": [
    "def Phi_to_upper_diagonal(Phi):\n",
    "    Phi_ud = np.zeros(Phi.shape)\n",
    "    for i in range(len(Phi_ud)):\n",
    "        Phi_ud[i,i]=Phi[i,i]\n",
    "        for j in range(i+1,len(Phi_ud)):\n",
    "            Phi_ud[i,j] = Phi[i,j]+Phi[j,i]\n",
    "    return Phi_ud"
   ]
  },
  {
   "cell_type": "code",
   "execution_count": 45,
   "metadata": {},
   "outputs": [],
   "source": [
    "Phi_ud = Phi_to_upper_diagonal(Phi)"
   ]
  },
  {
   "cell_type": "code",
   "execution_count": 46,
   "metadata": {},
   "outputs": [],
   "source": [
    "import dimod, neal"
   ]
  },
  {
   "cell_type": "code",
   "execution_count": 47,
   "metadata": {
    "scrolled": true
   },
   "outputs": [],
   "source": [
    "bqm = dimod.BinaryQuadraticModel.from_numpy_matrix(Phi_ud)"
   ]
  },
  {
   "cell_type": "code",
   "execution_count": 48,
   "metadata": {},
   "outputs": [],
   "source": [
    "#solver = neal.SimulatedAnnealingSampler()"
   ]
  },
  {
   "cell_type": "code",
   "execution_count": 49,
   "metadata": {},
   "outputs": [],
   "source": [
    "solver = dimod.ExactSolver()"
   ]
  },
  {
   "cell_type": "code",
   "execution_count": 50,
   "metadata": {},
   "outputs": [],
   "source": [
    "response = solver.sample(bqm)"
   ]
  },
  {
   "cell_type": "code",
   "execution_count": 51,
   "metadata": {
    "scrolled": true
   },
   "outputs": [],
   "source": [
    "state_E = [[list(map(lambda x: s[x], range(len(s)))),e] for s,e in response.data(['sample','energy'])]\n",
    "state_E = sorted(state_E, key=lambda x: x[1])\n",
    "state_E = array(state_E)"
   ]
  },
  {
   "cell_type": "code",
   "execution_count": 52,
   "metadata": {
    "scrolled": true
   },
   "outputs": [
    {
     "name": "stdout",
     "output_type": "stream",
     "text": [
      "I(X;Y) 2.624005183350164\n",
      "\n",
      "Pclass 1\n",
      "Sex 1\n",
      "Age 0\n",
      "SibSp 0\n",
      "Parch 0\n",
      "Fare 0\n",
      "Cabin 1\n",
      "Name_length 0\n",
      "Mr 1\n",
      "Mrs 0\n",
      "Miss 1\n",
      "Master 0\n",
      "Rare_title 0\n",
      "Alone 0\n",
      "port_S 0\n",
      "port_C 0\n",
      "port_Q 0\n"
     ]
    }
   ],
   "source": [
    "rank = 0\n",
    "\n",
    "print('I(X;Y)', -1*state_E[rank][1] - alpha*k**2)\n",
    "print()\n",
    "for i, e in enumerate(train.columns[2:]):\n",
    "    print(e, state_E[rank][0][i])"
   ]
  },
  {
   "cell_type": "code",
   "execution_count": 53,
   "metadata": {
    "scrolled": true
   },
   "outputs": [
    {
     "data": {
      "text/plain": [
       "Text(0.5,0,'state rank')"
      ]
     },
     "execution_count": 53,
     "metadata": {},
     "output_type": "execute_result"
    },
    {
     "data": {
      "image/png": "[encoded data removed]",
      "text/plain": [
       "<Figure size 432x288 with 1 Axes>"
      ]
     },
     "metadata": {
      "needs_background": "light"
     },
     "output_type": "display_data"
    }
   ],
   "source": [
    "figure()\n",
    "plot(-1*array(state_E)[:,1] -alpha*k**2)\n",
    "ylabel('energy + offset'); xlabel('state rank')"
   ]
  },
  {
   "cell_type": "markdown",
   "metadata": {},
   "source": [
    "We offset the energies by $\\alpha k^2$. Since $\\alpha(\\sum_i x_i - k)^2 = \\alpha[ \\sum_{i\\neq j}x_ix_j +(1-2 k)\\sum_ix_i + k^2]$ but the term $\\alpha k^2$ was never incorporated into the QBM as it is an energetic offset. When $\\sum_i x_i = k$, the 'energy + offset' should be equal to our (over)estimation of mutual information.\n",
    "\n",
    "negative drops correspond to the penalization of having more than (or less than) 'k' ones in the solution"
   ]
  },
  {
   "cell_type": "code",
   "execution_count": 54,
   "metadata": {},
   "outputs": [
    {
     "data": {
      "text/plain": [
       "Text(0,0.5,'occurrence')"
      ]
     },
     "execution_count": 54,
     "metadata": {},
     "output_type": "execute_result"
    },
    {
     "data": {
      "image/png": "[encoded data removed]",
      "text/plain": [
       "<Figure size 432x288 with 1 Axes>"
      ]
     },
     "metadata": {
      "needs_background": "light"
     },
     "output_type": "display_data"
    }
   ],
   "source": [
    "M = []\n",
    "for i in state_E[:100]:\n",
    "    M.append(i[0])\n",
    "M = array(M)\n",
    "\n",
    "figure()\n",
    "bar(range(M.shape[1]),sum(M,axis=0))\n",
    "xticks(arange(M.shape[1]),train.columns[2:],rotation=90)\n",
    "\n",
    "ylabel('occurrence')"
   ]
  },
  {
   "cell_type": "markdown",
   "metadata": {},
   "source": [
    "#### Prepare the subsets"
   ]
  },
  {
   "cell_type": "code",
   "execution_count": 149,
   "metadata": {},
   "outputs": [],
   "source": [
    "KB_SS = [] #KBest Subset\n",
    "for i in range(len(our_sorted)):\n",
    "    KB_SS.append(sorted(our_sorted[:i+1]))"
   ]
  },
  {
   "cell_type": "code",
   "execution_count": 56,
   "metadata": {},
   "outputs": [],
   "source": [
    "QUBO_SS = [] #MI-QUBO Subset\n",
    "I_k = [] #store the mutual information of the subset k and Y\n",
    "data = train[train.columns[1:]].values\n",
    "for k in range(1,len(data[0])): #data includes Y as the first column\n",
    "    #Build BQM\n",
    "    alpha = 200\n",
    "    Phi = make_Phi(data, k = k, alpha = alpha)\n",
    "    Phi_ud = Phi_to_upper_diagonal(Phi)\n",
    "    bqm = dimod.BinaryQuadraticModel.from_numpy_matrix(Phi_ud)\n",
    "    response = solver.sample(bqm)\n",
    "    #find the selected indices\n",
    "    E = [[e] for e in response.data(['energy'])]\n",
    "    min_E = min(E)\n",
    "    I_k.append(-min_E[0].energy-alpha*k**2)\n",
    "    sample = [s for s in response.data(['sample'])][E.index(min_E)][0]\n",
    "    selection = []\n",
    "    for i in range(len(data[0])-1):\n",
    "        if sample[i]==1: selection.append(i)\n",
    "    QUBO_SS.append(selection)"
   ]
  },
  {
   "cell_type": "code",
   "execution_count": 57,
   "metadata": {},
   "outputs": [
    {
     "data": {
      "text/plain": [
       "Text(0.5,0,'k')"
      ]
     },
     "execution_count": 57,
     "metadata": {},
     "output_type": "execute_result"
    },
    {
     "data": {
      "image/png": "[encoded data removed]",
      "text/plain": [
       "<Figure size 432x288 with 1 Axes>"
      ]
     },
     "metadata": {
      "needs_background": "light"
     },
     "output_type": "display_data"
    }
   ],
   "source": [
    "figure()\n",
    "plot(arange(len(I_k))+1,I_k)\n",
    "ylabel('I(X;Y)'); xlabel('k')\n"
   ]
  },
  {
   "cell_type": "markdown",
   "metadata": {},
   "source": [
    "It's unfortunate that the overestimation term grows linear with k. The actual I(X;Y) should never exceed 1 (Y is a binary quantity)"
   ]
  },
  {
   "cell_type": "code",
   "execution_count": 88,
   "metadata": {
    "scrolled": false
   },
   "outputs": [
    {
     "data": {
      "text/plain": [
       "([<matplotlib.axis.XTick at 0x7fad0ccd53c8>,\n",
       "  <matplotlib.axis.XTick at 0x7fad0cad2c88>,\n",
       "  <matplotlib.axis.XTick at 0x7fad0cad29e8>,\n",
       "  <matplotlib.axis.XTick at 0x7fad0e36d128>,\n",
       "  <matplotlib.axis.XTick at 0x7fad0e36d588>,\n",
       "  <matplotlib.axis.XTick at 0x7fad0e36da58>,\n",
       "  <matplotlib.axis.XTick at 0x7fad0e36df28>,\n",
       "  <matplotlib.axis.XTick at 0x7fad0d2c6438>,\n",
       "  <matplotlib.axis.XTick at 0x7fad0d2c6908>,\n",
       "  <matplotlib.axis.XTick at 0x7fad0d2c6dd8>,\n",
       "  <matplotlib.axis.XTick at 0x7fad0d2c6860>,\n",
       "  <matplotlib.axis.XTick at 0x7fad0e36db00>,\n",
       "  <matplotlib.axis.XTick at 0x7fad0d84b198>,\n",
       "  <matplotlib.axis.XTick at 0x7fad0d84b828>,\n",
       "  <matplotlib.axis.XTick at 0x7fad0d84bcf8>,\n",
       "  <matplotlib.axis.XTick at 0x7fad1c04d208>,\n",
       "  <matplotlib.axis.XTick at 0x7fad1c04d6d8>],\n",
       " <a list of 17 Text xticklabel objects>)"
      ]
     },
     "execution_count": 88,
     "metadata": {},
     "output_type": "execute_result"
    },
    {
     "data": {
      "image/png": "[encoded data removed]",
      "text/plain": [
       "<Figure size 720x432 with 2 Axes>"
      ]
     },
     "metadata": {
      "needs_background": "light"
     },
     "output_type": "display_data"
    }
   ],
   "source": [
    "#plot selected features as a function of k\n",
    "figure(figsize=(10,6))\n",
    "subplot(1,2,1)\n",
    "KB_M = np.zeros((len(data[0])-1,len(data[0])-1))\n",
    "for i in range(len(KB_SS)):\n",
    "    for j in KB_SS[i]: KB_M[i,j]=1\n",
    "imshow(KB_M,interpolation='none',extent=(-0.5,len(KB_M[0])-0.5,len(KB_M[0])-0.5,0.5))\n",
    "ylabel('k'); title('MI-KBest')\n",
    "xticks(arange(KB_M.shape[1]),train.columns[2:],rotation=90)\n",
    "\n",
    "subplot(1,2,2)\n",
    "QUBO_M = np.zeros((len(data[0])-1,len(data[0])-1))\n",
    "for i in range(len(QUBO_SS)):\n",
    "    for j in QUBO_SS[i]: QUBO_M[i,j]=1\n",
    "imshow(QUBO_M,interpolation='none',extent=(-0.5,len(QUBO_M[0])-0.5,len(QUBO_M[0])-0.5,0.5))\n",
    "ylabel('k'); title('MI-QUBO')\n",
    "xticks(arange(QUBO_M.shape[1]),train.columns[2:],rotation=90)"
   ]
  },
  {
   "cell_type": "markdown",
   "metadata": {},
   "source": [
    "### 4. KNN QUBO"
   ]
  },
  {
   "cell_type": "code",
   "execution_count": 59,
   "metadata": {},
   "outputs": [],
   "source": [
    "def make_KNNPhi(data,beta,alpha,k):\n",
    "    '''data is X and Y, Y is the first column. beta is the penalization applied to the non-matching cases.\n",
    "    alpha is the weight of the size-k constraint. k is the number of features to select'''\n",
    "    y_index = 0\n",
    "    dim = data.shape[1]-1\n",
    "    Phi = np.zeros((dim,dim))\n",
    "    \n",
    "    matching_matrix  = np.zeros((len(data),len(data))) #matrix of wether Y[ii] and Y[jj] match. includes the penalization already\n",
    "    for ii in range(len(data)):\n",
    "        for jj in range(len(data)):\n",
    "            if data[ii,0] == data[jj,0]: matching_matrix[ii,jj] = 1\n",
    "            else: matching_matrix[ii,jj] = -beta\n",
    "    \n",
    "    for i in range(dim): #feature index\n",
    "        \n",
    "        Phi[i,i] =  alpha*(1-2*k)\n",
    "        for ii in range(len(data)): #data index\n",
    "            for jj in range(len(data)):\n",
    "                Phi[i,i] += matching_matrix[ii,jj]*(data[ii,i+1]-data[jj,i+1])**2\n",
    "        \n",
    "        for j in range(dim):\n",
    "                if i!=j: Phi[i,j] = alpha\n",
    "    return Phi"
   ]
  },
  {
   "cell_type": "code",
   "execution_count": 79,
   "metadata": {},
   "outputs": [],
   "source": [
    "k = 1\n",
    "beta = 1\n",
    "alpha = 100000"
   ]
  },
  {
   "cell_type": "code",
   "execution_count": 80,
   "metadata": {},
   "outputs": [],
   "source": [
    "Phi = make_KNNPhi(train[train.columns[1:]].values, beta, alpha, k)"
   ]
  },
  {
   "cell_type": "markdown",
   "metadata": {},
   "source": [
    "Solve the problem"
   ]
  },
  {
   "cell_type": "code",
   "execution_count": 81,
   "metadata": {},
   "outputs": [],
   "source": [
    "Phi_ud = Phi_to_upper_diagonal(Phi)"
   ]
  },
  {
   "cell_type": "code",
   "execution_count": 82,
   "metadata": {
    "scrolled": true
   },
   "outputs": [],
   "source": [
    "bqm = dimod.BinaryQuadraticModel.from_numpy_matrix(Phi_ud)"
   ]
  },
  {
   "cell_type": "code",
   "execution_count": 83,
   "metadata": {},
   "outputs": [],
   "source": [
    "solver = dimod.ExactSolver()"
   ]
  },
  {
   "cell_type": "code",
   "execution_count": 84,
   "metadata": {},
   "outputs": [],
   "source": [
    "response = solver.sample(bqm)"
   ]
  },
  {
   "cell_type": "code",
   "execution_count": 85,
   "metadata": {
    "scrolled": true
   },
   "outputs": [],
   "source": [
    "state_E = [[list(map(lambda x: s[x], range(len(s)))),e] for s,e in response.data(['sample','energy'])]\n",
    "state_E = sorted(state_E, key=lambda x: x[1])\n",
    "state_E = array(state_E)"
   ]
  },
  {
   "cell_type": "code",
   "execution_count": 86,
   "metadata": {
    "scrolled": true
   },
   "outputs": [
    {
     "name": "stdout",
     "output_type": "stream",
     "text": [
      "function to minimize -271022.0\n",
      "\n",
      "Pclass 0\n",
      "Sex 1\n",
      "Age 0\n",
      "SibSp 0\n",
      "Parch 0\n",
      "Fare 0\n",
      "Cabin 0\n",
      "Name_length 0\n",
      "Mr 0\n",
      "Mrs 0\n",
      "Miss 0\n",
      "Master 0\n",
      "Rare_title 0\n",
      "Alone 0\n",
      "port_S 0\n",
      "port_C 0\n",
      "port_Q 0\n"
     ]
    }
   ],
   "source": [
    "rank = 0\n",
    "\n",
    "print('function to minimize', state_E[rank][1] - alpha*k**2)\n",
    "print()\n",
    "for i, e in enumerate(train.columns[2:]):\n",
    "    print(e, state_E[rank][0][i])"
   ]
  },
  {
   "cell_type": "code",
   "execution_count": 90,
   "metadata": {},
   "outputs": [],
   "source": [
    "KNNQUBO_SS = [] #MI-QUBO Subset\n",
    "data = train[train.columns[1:]].values\n",
    "beta = 1\n",
    "alpha = 100000\n",
    "for k in range(1,len(data[0])): #data includes Y as the first column\n",
    "    #Build BQM\n",
    "    Phi = make_KNNPhi(data,beta,alpha,k)\n",
    "    Phi_ud = Phi_to_upper_diagonal(Phi)\n",
    "    bqm = dimod.BinaryQuadraticModel.from_numpy_matrix(Phi_ud)\n",
    "    response = solver.sample(bqm)\n",
    "    #find the selected indices\n",
    "    E = [[e] for e in response.data(['energy'])]\n",
    "    min_E = min(E)\n",
    "    sample = [s for s in response.data(['sample'])][E.index(min_E)][0]\n",
    "    selection = []\n",
    "    for i in range(len(data[0])-1):\n",
    "        if sample[i]==1: selection.append(i)\n",
    "    KNNQUBO_SS.append(selection)"
   ]
  },
  {
   "cell_type": "code",
   "execution_count": 91,
   "metadata": {},
   "outputs": [
    {
     "data": {
      "text/plain": [
       "([<matplotlib.axis.XTick at 0x7fad1c4cb2e8>,\n",
       "  <matplotlib.axis.XTick at 0x7fad0db84be0>,\n",
       "  <matplotlib.axis.XTick at 0x7fad0db84940>,\n",
       "  <matplotlib.axis.XTick at 0x7fad3903b1d0>,\n",
       "  <matplotlib.axis.XTick at 0x7fad3903b6a0>,\n",
       "  <matplotlib.axis.XTick at 0x7fad3903bb70>,\n",
       "  <matplotlib.axis.XTick at 0x7fad077a00f0>,\n",
       "  <matplotlib.axis.XTick at 0x7fad077a0550>,\n",
       "  <matplotlib.axis.XTick at 0x7fad077a0a20>,\n",
       "  <matplotlib.axis.XTick at 0x7fad077a0ef0>,\n",
       "  <matplotlib.axis.XTick at 0x7fad1caa7400>,\n",
       "  <matplotlib.axis.XTick at 0x7fad077a09e8>,\n",
       "  <matplotlib.axis.XTick at 0x7fad3903bac8>,\n",
       "  <matplotlib.axis.XTick at 0x7fad1caa76a0>,\n",
       "  <matplotlib.axis.XTick at 0x7fad1caa7da0>,\n",
       "  <matplotlib.axis.XTick at 0x7fad0795a2b0>,\n",
       "  <matplotlib.axis.XTick at 0x7fad0795a780>],\n",
       " <a list of 17 Text xticklabel objects>)"
      ]
     },
     "execution_count": 91,
     "metadata": {},
     "output_type": "execute_result"
    },
    {
     "data": {
      "image/png": "[encoded data removed]",
      "text/plain": [
       "<Figure size 720x432 with 3 Axes>"
      ]
     },
     "metadata": {
      "needs_background": "light"
     },
     "output_type": "display_data"
    }
   ],
   "source": [
    "figure(figsize=(10,6))\n",
    "subplot(1,3,1)\n",
    "KB_M = np.zeros((len(data[0])-1,len(data[0])-1))\n",
    "for i in range(len(KB_SS)):\n",
    "    for j in KB_SS[i]: KB_M[i,j]=1\n",
    "imshow(KB_M,interpolation='none',extent=(-0.5,len(KB_M[0])-0.5,len(KB_M[0])-0.5,0.5))\n",
    "ylabel('k'); title('MI-KBest')\n",
    "xticks(arange(KB_M.shape[1]),train.columns[2:],rotation=90)\n",
    "\n",
    "subplot(1,3,2)\n",
    "QUBO_M = np.zeros((len(data[0])-1,len(data[0])-1))\n",
    "for i in range(len(QUBO_SS)):\n",
    "    for j in QUBO_SS[i]: QUBO_M[i,j]=1\n",
    "imshow(QUBO_M,interpolation='none',extent=(-0.5,len(QUBO_M[0])-0.5,len(QUBO_M[0])-0.5,0.5))\n",
    "ylabel('k'); title('MI-QUBO')\n",
    "xticks(arange(QUBO_M.shape[1]),train.columns[2:],rotation=90)\n",
    "\n",
    "subplot(1,3,3)\n",
    "KNNQUBO_M = np.zeros((len(data[0])-1,len(data[0])-1))\n",
    "for i in range(len(KNNQUBO_SS)):\n",
    "    for j in KNNQUBO_SS[i]: KNNQUBO_M[i,j]=1\n",
    "imshow(KNNQUBO_M,interpolation='none',extent=(-0.5,len(KNNQUBO_M[0])-0.5,len(KNNQUBO_M[0])-0.5,0.5))\n",
    "ylabel('k'); title('KNN-QUBO')\n",
    "xticks(arange(KNNQUBO_M.shape[1]),train.columns[2:],rotation=90)"
   ]
  },
  {
   "cell_type": "markdown",
   "metadata": {},
   "source": [
    "#### Predict"
   ]
  },
  {
   "cell_type": "markdown",
   "metadata": {},
   "source": [
    "train / test"
   ]
  },
  {
   "cell_type": "code",
   "execution_count": 220,
   "metadata": {},
   "outputs": [],
   "source": [
    "X, Y = data[:,1:], data[:,0]\n",
    "indices = arange(len(X))\n",
    "random.shuffle(indices)\n",
    "X_train, Y_train = X[indices[:514]], Y[indices[:514]]\n",
    "X_test, Y_test = X[indices[514:]], Y[indices[514:]]"
   ]
  },
  {
   "cell_type": "code",
   "execution_count": 221,
   "metadata": {},
   "outputs": [],
   "source": [
    "from sklearn.metrics import accuracy_score as acc"
   ]
  },
  {
   "cell_type": "code",
   "execution_count": 222,
   "metadata": {
    "scrolled": true
   },
   "outputs": [],
   "source": [
    "from sklearn.neighbors import KNeighborsClassifier"
   ]
  },
  {
   "cell_type": "code",
   "execution_count": 223,
   "metadata": {
    "scrolled": false
   },
   "outputs": [
    {
     "data": {
      "text/plain": [
       "(Text(0,0.5,'prediction accuracy'), Text(0.5,1,'KNN'))"
      ]
     },
     "execution_count": 223,
     "metadata": {},
     "output_type": "execute_result"
    },
    {
     "data": {
      "image/png": "[encoded data removed]",
      "text/plain": [
       "<Figure size 432x288 with 1 Axes>"
      ]
     },
     "metadata": {
      "needs_background": "light"
     },
     "output_type": "display_data"
    }
   ],
   "source": [
    "model = KNeighborsClassifier()\n",
    "\n",
    "\n",
    "KB_acc, QUBO_acc, KNNQUBO_acc = [], [], []\n",
    "for k in range(len(X[0])):\n",
    "\n",
    "    model.fit(X_train[:,KB_SS[k]], Y_train)\n",
    "    Y_pred = model.predict(X_test[:,KB_SS[k]])\n",
    "    KB_acc.append(acc(Y_pred,Y_test))\n",
    "\n",
    "    model.fit(X_train[:,QUBO_SS[k]], Y_train)\n",
    "    Y_pred = model.predict(X_test[:,QUBO_SS[k]])\n",
    "    QUBO_acc.append(acc(Y_pred,Y_test))\n",
    "\n",
    "    model.fit(X_train[:,KNNQUBO_SS[k]], Y_train)\n",
    "    Y_pred = model.predict(X_test[:,KNNQUBO_SS[k]])\n",
    "    KNNQUBO_acc.append(acc(Y_pred,Y_test))\n",
    "        \n",
    "figure()\n",
    "plot(arange(1,len(X[0])+1),KB_acc,label='MI-KBest')\n",
    "plot(arange(1,len(X[0])+1),QUBO_acc,label='MI-QUBO')\n",
    "plot(arange(1,len(X[0])+1),KNNQUBO_acc,label='KNNQUBO')\n",
    "legend()\n",
    "xlabel('k'); ylabel('prediction accuracy'), title('KNN')"
   ]
  },
  {
   "cell_type": "markdown",
   "metadata": {},
   "source": [
    "one against all"
   ]
  },
  {
   "cell_type": "code",
   "execution_count": 194,
   "metadata": {
    "scrolled": false
   },
   "outputs": [
    {
     "data": {
      "text/plain": [
       "(Text(0,0.5,'prediction accuracy'), Text(0.5,1,'KNN'))"
      ]
     },
     "execution_count": 194,
     "metadata": {},
     "output_type": "execute_result"
    },
    {
     "data": {
      "image/png": "[encoded data removed]",
      "text/plain": [
       "<Figure size 432x288 with 1 Axes>"
      ]
     },
     "metadata": {
      "needs_background": "light"
     },
     "output_type": "display_data"
    }
   ],
   "source": [
    "X, Y = data[:,1:], data[:,0]\n",
    "\n",
    "KB_acc, QUBO_acc, KNNQUBO_acc = [], [], []\n",
    "for k in range(len(X[0])):\n",
    "    \n",
    "    i_KB_acc, i_QUBO_acc, i_KNNQUBO_acc = [], [], []\n",
    "\n",
    "    for i in range(len(X)):\n",
    "        \n",
    "        indices = arange(len(X))\n",
    "        \n",
    "        X_train, Y_train = X[indices[indices != i]], Y[indices != i]\n",
    "        X_test, Y_test = X[i], Y[i]\n",
    "\n",
    "        model = KNeighborsClassifier()\n",
    "\n",
    "        model.fit(X_train[:,KB_SS[k]], Y_train)\n",
    "        Y_pred = model.predict([X_test[KB_SS[k]]])\n",
    "        i_KB_acc.append(acc(Y_pred,[Y_test]))\n",
    "\n",
    "        model.fit(X_train[:,QUBO_SS[k]], Y_train)\n",
    "        Y_pred = model.predict([X_test[QUBO_SS[k]]])\n",
    "        i_QUBO_acc.append(acc(Y_pred,[Y_test]))\n",
    "\n",
    "        model.fit(X_train[:,KNNQUBO_SS[k]], Y_train)\n",
    "        Y_pred = model.predict([X_test[KNNQUBO_SS[k]]])\n",
    "        i_KNNQUBO_acc.append(acc(Y_pred,[Y_test]))\n",
    "     \n",
    "    KB_acc.append(mean(i_KB_acc))\n",
    "    QUBO_acc.append(mean(i_QUBO_acc))\n",
    "    KNNQUBO_acc.append(mean(i_KNNQUBO_acc))\n",
    "\n",
    "figure()\n",
    "plot(arange(1,len(X[0])+1),KB_acc,label='MI-KBest')\n",
    "plot(arange(1,len(X[0])+1),QUBO_acc,label='MI-QUBO')\n",
    "plot(arange(1,len(X[0])+1),KNNQUBO_acc,label='KNNQUBO')\n",
    "legend()\n",
    "xlabel('k'); ylabel('prediction accuracy'), title('KNN')"
   ]
  },
  {
   "cell_type": "code",
   "execution_count": null,
   "metadata": {},
   "outputs": [],
   "source": []
  }
 ],
 "metadata": {
  "kernelspec": {
   "display_name": "Python 3",
   "language": "python",
   "name": "python3"
  },
  "language_info": {
   "codemirror_mode": {
    "name": "ipython",
    "version": 3
   },
   "file_extension": ".py",
   "mimetype": "text/x-python",
   "name": "python",
   "nbconvert_exporter": "python",
   "pygments_lexer": "ipython3",
   "version": "3.7.0"
  }
 },
 "nbformat": 4,
 "nbformat_minor": 2
}
